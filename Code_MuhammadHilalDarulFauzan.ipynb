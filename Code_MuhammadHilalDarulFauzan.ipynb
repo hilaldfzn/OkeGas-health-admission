{
 "cells": [
  {
   "cell_type": "markdown",
   "metadata": {},
   "source": [
    "# Health Admission"
   ]
  },
  {
   "cell_type": "markdown",
   "metadata": {},
   "source": [
    "### Proyek Akhir KASDD (Code Individu)\n",
    "\n",
    "Nama: Muhammad Hilal Darul Fauzan <br>\n",
    "NPM: 2206830542 <br>\n",
    "Kelas: B\n",
    "Kelompok: Ok Gas"
   ]
  },
  {
   "cell_type": "code",
   "execution_count": 319,
   "metadata": {},
   "outputs": [],
   "source": [
    "import pandas as pd\n",
    "import numpy as np\n",
    "import matplotlib.pyplot as plt\n",
    "import seaborn as sns\n",
    "from numpy.polynomial.polynomial import polyfit"
   ]
  },
  {
   "cell_type": "code",
   "execution_count": 320,
   "metadata": {},
   "outputs": [
    {
     "data": {
      "text/html": [
       "<div>\n",
       "<style scoped>\n",
       "    .dataframe tbody tr th:only-of-type {\n",
       "        vertical-align: middle;\n",
       "    }\n",
       "\n",
       "    .dataframe tbody tr th {\n",
       "        vertical-align: top;\n",
       "    }\n",
       "\n",
       "    .dataframe thead th {\n",
       "        text-align: right;\n",
       "    }\n",
       "</style>\n",
       "<table border=\"1\" class=\"dataframe\">\n",
       "  <thead>\n",
       "    <tr style=\"text-align: right;\">\n",
       "      <th></th>\n",
       "      <th>SNO</th>\n",
       "      <th>MRD No.</th>\n",
       "      <th>D.O.A</th>\n",
       "      <th>D.O.D</th>\n",
       "      <th>AGE</th>\n",
       "      <th>GENDER</th>\n",
       "      <th>RURAL</th>\n",
       "      <th>TYPE OF ADMISSION-EMERGENCY/OPD</th>\n",
       "      <th>month year</th>\n",
       "      <th>DURATION OF STAY</th>\n",
       "      <th>...</th>\n",
       "      <th>NEURO CARDIOGENIC SYNCOPE</th>\n",
       "      <th>ORTHOSTATIC</th>\n",
       "      <th>INFECTIVE ENDOCARDITIS</th>\n",
       "      <th>DVT</th>\n",
       "      <th>CARDIOGENIC SHOCK</th>\n",
       "      <th>SHOCK</th>\n",
       "      <th>PULMONARY EMBOLISM</th>\n",
       "      <th>CHEST INFECTION</th>\n",
       "      <th>OUTCOME</th>\n",
       "      <th>HB</th>\n",
       "    </tr>\n",
       "  </thead>\n",
       "  <tbody>\n",
       "    <tr>\n",
       "      <th>0</th>\n",
       "      <td>3615</td>\n",
       "      <td>344173</td>\n",
       "      <td>10/9/2017</td>\n",
       "      <td>10/15/2017</td>\n",
       "      <td>63</td>\n",
       "      <td>F</td>\n",
       "      <td>U</td>\n",
       "      <td>O</td>\n",
       "      <td>Oct-17</td>\n",
       "      <td>7</td>\n",
       "      <td>...</td>\n",
       "      <td>0</td>\n",
       "      <td>0</td>\n",
       "      <td>0</td>\n",
       "      <td>0</td>\n",
       "      <td>0</td>\n",
       "      <td>0</td>\n",
       "      <td>0</td>\n",
       "      <td>0</td>\n",
       "      <td>DISCHARGE</td>\n",
       "      <td>10.9</td>\n",
       "    </tr>\n",
       "    <tr>\n",
       "      <th>1</th>\n",
       "      <td>14308</td>\n",
       "      <td>665288</td>\n",
       "      <td>04/02/2019</td>\n",
       "      <td>08/02/2019</td>\n",
       "      <td>47</td>\n",
       "      <td>M</td>\n",
       "      <td>U</td>\n",
       "      <td>O</td>\n",
       "      <td>Feb-19</td>\n",
       "      <td>5</td>\n",
       "      <td>...</td>\n",
       "      <td>0</td>\n",
       "      <td>0</td>\n",
       "      <td>0</td>\n",
       "      <td>0</td>\n",
       "      <td>0</td>\n",
       "      <td>0</td>\n",
       "      <td>0</td>\n",
       "      <td>0</td>\n",
       "      <td>DISCHARGE</td>\n",
       "      <td>15</td>\n",
       "    </tr>\n",
       "    <tr>\n",
       "      <th>2</th>\n",
       "      <td>3303</td>\n",
       "      <td>203598</td>\n",
       "      <td>25/09/2017</td>\n",
       "      <td>26/09/2017</td>\n",
       "      <td>59</td>\n",
       "      <td>M</td>\n",
       "      <td>U</td>\n",
       "      <td>E</td>\n",
       "      <td>Sep-17</td>\n",
       "      <td>2</td>\n",
       "      <td>...</td>\n",
       "      <td>0</td>\n",
       "      <td>0</td>\n",
       "      <td>0</td>\n",
       "      <td>0</td>\n",
       "      <td>0</td>\n",
       "      <td>0</td>\n",
       "      <td>0</td>\n",
       "      <td>0</td>\n",
       "      <td>DISCHARGE</td>\n",
       "      <td>13.7</td>\n",
       "    </tr>\n",
       "    <tr>\n",
       "      <th>3</th>\n",
       "      <td>15405</td>\n",
       "      <td>640386</td>\n",
       "      <td>17/03/2019</td>\n",
       "      <td>25/03/2019</td>\n",
       "      <td>62</td>\n",
       "      <td>M</td>\n",
       "      <td>R</td>\n",
       "      <td>E</td>\n",
       "      <td>Mar-19</td>\n",
       "      <td>9</td>\n",
       "      <td>...</td>\n",
       "      <td>0</td>\n",
       "      <td>0</td>\n",
       "      <td>0</td>\n",
       "      <td>0</td>\n",
       "      <td>0</td>\n",
       "      <td>0</td>\n",
       "      <td>0</td>\n",
       "      <td>0</td>\n",
       "      <td>DISCHARGE</td>\n",
       "      <td>13.3</td>\n",
       "    </tr>\n",
       "    <tr>\n",
       "      <th>4</th>\n",
       "      <td>2232</td>\n",
       "      <td>168189</td>\n",
       "      <td>7/28/2017</td>\n",
       "      <td>8/1/2017</td>\n",
       "      <td>55</td>\n",
       "      <td>F</td>\n",
       "      <td>U</td>\n",
       "      <td>E</td>\n",
       "      <td>Jul-17</td>\n",
       "      <td>5</td>\n",
       "      <td>...</td>\n",
       "      <td>0</td>\n",
       "      <td>0</td>\n",
       "      <td>0</td>\n",
       "      <td>0</td>\n",
       "      <td>0</td>\n",
       "      <td>0</td>\n",
       "      <td>0</td>\n",
       "      <td>0</td>\n",
       "      <td>DISCHARGE</td>\n",
       "      <td>11.8</td>\n",
       "    </tr>\n",
       "  </tbody>\n",
       "</table>\n",
       "<p>5 rows × 56 columns</p>\n",
       "</div>"
      ],
      "text/plain": [
       "     SNO MRD No.       D.O.A       D.O.D  AGE GENDER RURAL  \\\n",
       "0   3615  344173   10/9/2017  10/15/2017   63      F     U   \n",
       "1  14308  665288  04/02/2019  08/02/2019   47      M     U   \n",
       "2   3303  203598  25/09/2017  26/09/2017   59      M     U   \n",
       "3  15405  640386  17/03/2019  25/03/2019   62      M     R   \n",
       "4   2232  168189   7/28/2017    8/1/2017   55      F     U   \n",
       "\n",
       "  TYPE OF ADMISSION-EMERGENCY/OPD month year  DURATION OF STAY  ...  \\\n",
       "0                               O     Oct-17                 7  ...   \n",
       "1                               O     Feb-19                 5  ...   \n",
       "2                               E     Sep-17                 2  ...   \n",
       "3                               E     Mar-19                 9  ...   \n",
       "4                               E     Jul-17                 5  ...   \n",
       "\n",
       "   NEURO CARDIOGENIC SYNCOPE  ORTHOSTATIC  INFECTIVE ENDOCARDITIS  DVT  \\\n",
       "0                          0            0                       0    0   \n",
       "1                          0            0                       0    0   \n",
       "2                          0            0                       0    0   \n",
       "3                          0            0                       0    0   \n",
       "4                          0            0                       0    0   \n",
       "\n",
       "   CARDIOGENIC SHOCK  SHOCK  PULMONARY EMBOLISM  CHEST INFECTION    OUTCOME  \\\n",
       "0                  0      0                   0                0  DISCHARGE   \n",
       "1                  0      0                   0                0  DISCHARGE   \n",
       "2                  0      0                   0                0  DISCHARGE   \n",
       "3                  0      0                   0                0  DISCHARGE   \n",
       "4                  0      0                   0                0  DISCHARGE   \n",
       "\n",
       "     HB  \n",
       "0  10.9  \n",
       "1    15  \n",
       "2  13.7  \n",
       "3  13.3  \n",
       "4  11.8  \n",
       "\n",
       "[5 rows x 56 columns]"
      ]
     },
     "execution_count": 320,
     "metadata": {},
     "output_type": "execute_result"
    }
   ],
   "source": [
    "df = pd.read_csv(\"admission.csv\")\n",
    "df.head()"
   ]
  },
  {
   "cell_type": "code",
   "execution_count": 321,
   "metadata": {},
   "outputs": [
    {
     "data": {
      "text/plain": [
       "Index(['SNO', 'MRD No.', 'D.O.A', 'D.O.D', 'AGE', 'GENDER', 'RURAL',\n",
       "       'TYPE OF ADMISSION-EMERGENCY/OPD', 'month year', 'DURATION OF STAY',\n",
       "       'duration of intensive unit stay', 'SMOKING ', 'ALCOHOL', 'DM', 'HTN',\n",
       "       'CAD', 'PRIOR CMP', 'CKD', 'TLC', 'PLATELETS', 'GLUCOSE', 'UREA',\n",
       "       'CREATININE', 'BNP', 'RAISED CARDIAC ENZYMES', 'EF', 'SEVERE ANAEMIA',\n",
       "       'ANAEMIA', 'STABLE ANGINA', 'ACS', 'STEMI', 'ATYPICAL CHEST PAIN',\n",
       "       'HEART FAILURE', 'HFREF', 'HFNEF', 'VALVULAR', 'CHB', 'SSS', 'AKI',\n",
       "       'CVA INFRACT', 'CVA BLEED', 'AF', 'VT', 'PSVT', 'CONGENITAL', 'UTI',\n",
       "       'NEURO CARDIOGENIC SYNCOPE', 'ORTHOSTATIC', 'INFECTIVE ENDOCARDITIS',\n",
       "       'DVT', 'CARDIOGENIC SHOCK', 'SHOCK', 'PULMONARY EMBOLISM',\n",
       "       'CHEST INFECTION', 'OUTCOME', 'HB'],\n",
       "      dtype='object')"
      ]
     },
     "execution_count": 321,
     "metadata": {},
     "output_type": "execute_result"
    }
   ],
   "source": [
    "df.columns"
   ]
  },
  {
   "cell_type": "markdown",
   "metadata": {},
   "source": [
    "Berikut ini adalah deskripsi setiap kolom pada dataset.\n",
    "- SNO : Serial Number (unique)\n",
    "- MRD No. : Admission Number\n",
    "- D.O.A  : Date of Admission\n",
    "- D.O.D   : Date of Discharge\n",
    "- AGE     : Age patient\n",
    "- GENDER  : Gender patient (F (Female)/M (Male)\n",
    "- RURAL   : Household are of patient ( U (Urban)/ R (Rural))\n",
    "- TYPE OF ADMISSION-EMERGENCY/OPD  : O (Outpatient)/E (Emergency)\n",
    "- month year   : Month and year of admission\n",
    "- DURATION OF STAY   : How long the patient stay in hospital\n",
    "- duration of intensive unit stay  : How long the patient do intensive stay in hospital\n",
    "- SMOKING : Is patient smoke? (1 (True)/ 0(False))\n",
    "- ALCOHOL  : Is patient drink alcohol? (1 (True)/ 0(False))\n",
    "- DM   : Diabetes Mellitus\n",
    "- HTN : Hypertension\n",
    "- CAD : Coronary Artery Disease\n",
    "- PRIOR CMP : CARDIOMYOPATHY\n",
    "- CKD  : CHRONIC KIDNEY DISEASE\n",
    "- TLC  : TOTAL LEUKOCYTES COUNT\n",
    "- PLATELETS : Platelets on patient\n",
    "- GLUCOSE : Glucose on patient\n",
    "- UREA  \n",
    "- CREATININE  : Creatinine on patient\n",
    "- BNP   : B-TYPE NATRIURETIC PEPTIDE\n",
    "- RAISED CARDIAC ENZYMES \n",
    "- EF    : Ejection Fraction\n",
    "- SEVERE ANAEMIA \n",
    "- ANAEMIA   \n",
    "- STABLE ANGINA  \n",
    "- ACS   : Acute coronary Syndrome\n",
    "- STEMI  : ST ELEVATION MYOCARDIAL INFARCTION\n",
    "- ATYPICAL CHEST PAIN  \n",
    "- HEART FAILURE    \n",
    "- HFREF  : HEART FAILURE WITH REDUCED EJECTION FRACTION\n",
    "- HFNEF  : HEART FAILURE WITH NORMAL EJECTION FRACTION\n",
    "- VALVULAR  : Valvular Heart Disease\n",
    "- CHB  : Complete Heart Block\n",
    "- SSS  : Sick sinus syndrome\n",
    "- AKI  : ACUTE KIDNEY INJURY\n",
    "- CVA INFRACT  : Cerebrovascular Accident INFRACT\n",
    "- CVA BLEED  : Cerebrovascular Accident BLEED\n",
    "- AF  : Atrial Fibrilation\n",
    "- VT  : Ventricular Tachycardia\n",
    "- PSVT : PAROXYSMAL SUPRA VENTRICULAR TACHYCARDIA\n",
    "- CONGENITAL : Congenital Heart Disease\n",
    "- UTI  : Urinary tract infection\n",
    "- NEURO CARDIOGENIC SYNCOPE\n",
    "- ORTHOSTATIC \n",
    "- INFECTIVE ENDOCARDITIS\n",
    "- DVT  : Deep venous thrombosis\n",
    "- CARDIOGENIC SHOCK\n",
    "- SHOCK  \n",
    "- PULMONARY EMBOLISM   \n",
    "- CHEST INFECTION  \n",
    "- OUTCOME  : outcome the patient (Discharge / DAMA (Discharged Against Medical Advice)/ Expiry)\n",
    "- HB : Hemoglobin"
   ]
  },
  {
   "cell_type": "code",
   "execution_count": 322,
   "metadata": {},
   "outputs": [
    {
     "name": "stdout",
     "output_type": "stream",
     "text": [
      "<class 'pandas.core.frame.DataFrame'>\n",
      "RangeIndex: 12551 entries, 0 to 12550\n",
      "Data columns (total 56 columns):\n",
      " #   Column                           Non-Null Count  Dtype \n",
      "---  ------                           --------------  ----- \n",
      " 0   SNO                              12551 non-null  int64 \n",
      " 1   MRD No.                          12551 non-null  object\n",
      " 2   D.O.A                            12551 non-null  object\n",
      " 3   D.O.D                            12551 non-null  object\n",
      " 4   AGE                              12551 non-null  int64 \n",
      " 5   GENDER                           12551 non-null  object\n",
      " 6   RURAL                            12551 non-null  object\n",
      " 7   TYPE OF ADMISSION-EMERGENCY/OPD  12551 non-null  object\n",
      " 8   month year                       12551 non-null  object\n",
      " 9   DURATION OF STAY                 12551 non-null  int64 \n",
      " 10  duration of intensive unit stay  12551 non-null  int64 \n",
      " 11  SMOKING                          12551 non-null  int64 \n",
      " 12  ALCOHOL                          12551 non-null  int64 \n",
      " 13  DM                               12551 non-null  int64 \n",
      " 14  HTN                              12551 non-null  int64 \n",
      " 15  CAD                              12551 non-null  int64 \n",
      " 16  PRIOR CMP                        12551 non-null  int64 \n",
      " 17  CKD                              12551 non-null  int64 \n",
      " 18  TLC                              12521 non-null  object\n",
      " 19  PLATELETS                        12522 non-null  object\n",
      " 20  GLUCOSE                          11971 non-null  object\n",
      " 21  UREA                             12526 non-null  object\n",
      " 22  CREATININE                       12520 non-null  object\n",
      " 23  BNP                              5936 non-null   object\n",
      " 24  RAISED CARDIAC ENZYMES           12551 non-null  int64 \n",
      " 25  EF                               11357 non-null  object\n",
      " 26  SEVERE ANAEMIA                   12551 non-null  int64 \n",
      " 27  ANAEMIA                          12551 non-null  int64 \n",
      " 28  STABLE ANGINA                    12551 non-null  int64 \n",
      " 29  ACS                              12551 non-null  int64 \n",
      " 30  STEMI                            12551 non-null  int64 \n",
      " 31  ATYPICAL CHEST PAIN              12551 non-null  int64 \n",
      " 32  HEART FAILURE                    12551 non-null  int64 \n",
      " 33  HFREF                            12551 non-null  int64 \n",
      " 34  HFNEF                            12551 non-null  int64 \n",
      " 35  VALVULAR                         12551 non-null  int64 \n",
      " 36  CHB                              12551 non-null  int64 \n",
      " 37  SSS                              12551 non-null  int64 \n",
      " 38  AKI                              12551 non-null  int64 \n",
      " 39  CVA INFRACT                      12551 non-null  int64 \n",
      " 40  CVA BLEED                        12551 non-null  int64 \n",
      " 41  AF                               12551 non-null  int64 \n",
      " 42  VT                               12551 non-null  int64 \n",
      " 43  PSVT                             12551 non-null  int64 \n",
      " 44  CONGENITAL                       12551 non-null  int64 \n",
      " 45  UTI                              12551 non-null  int64 \n",
      " 46  NEURO CARDIOGENIC SYNCOPE        12551 non-null  int64 \n",
      " 47  ORTHOSTATIC                      12551 non-null  int64 \n",
      " 48  INFECTIVE ENDOCARDITIS           12551 non-null  int64 \n",
      " 49  DVT                              12551 non-null  int64 \n",
      " 50  CARDIOGENIC SHOCK                12551 non-null  int64 \n",
      " 51  SHOCK                            12551 non-null  int64 \n",
      " 52  PULMONARY EMBOLISM               12551 non-null  int64 \n",
      " 53  CHEST INFECTION                  12551 non-null  object\n",
      " 54  OUTCOME                          12551 non-null  object\n",
      " 55  HB                               12551 non-null  object\n",
      "dtypes: int64(39), object(17)\n",
      "memory usage: 5.4+ MB\n"
     ]
    }
   ],
   "source": [
    "df.info()"
   ]
  },
  {
   "cell_type": "markdown",
   "metadata": {},
   "source": [
    "## Eksplorasi"
   ]
  },
  {
   "cell_type": "code",
   "execution_count": 323,
   "metadata": {},
   "outputs": [],
   "source": [
    "df_copy = df.copy(deep=True)"
   ]
  },
  {
   "cell_type": "markdown",
   "metadata": {},
   "source": [
    "#### 1. Pada bulan apakah jumlah pasien terbanyak yang dirawat di rumah sakit?"
   ]
  },
  {
   "cell_type": "code",
   "execution_count": 324,
   "metadata": {},
   "outputs": [
    {
     "data": {
      "text/plain": [
       "(Timestamp('2019-01-01 00:00:00'), 688)"
      ]
     },
     "execution_count": 324,
     "metadata": {},
     "output_type": "execute_result"
    }
   ],
   "source": [
    "df_copy['month-year'] = pd.to_datetime(df_copy['month year'], format='%b-%y')\n",
    "\n",
    "monthly_admissions = df_copy.groupby('month-year').size().sort_index()\n",
    "\n",
    "max_admission_month = monthly_admissions.idxmax()\n",
    "max_admission_count = monthly_admissions.max()\n",
    "\n",
    "max_admission_month, max_admission_count"
   ]
  },
  {
   "cell_type": "markdown",
   "metadata": {},
   "source": [
    "Jumlah pasien terbanyak yang dirawat di rumah sakit pada Januari 2019."
   ]
  },
  {
   "cell_type": "markdown",
   "metadata": {},
   "source": [
    "#### 2. Bagaimana karakteristik pasien yang menderita heart failure?"
   ]
  },
  {
   "cell_type": "code",
   "execution_count": 325,
   "metadata": {},
   "outputs": [
    {
     "data": {
      "text/html": [
       "<div>\n",
       "<style scoped>\n",
       "    .dataframe tbody tr th:only-of-type {\n",
       "        vertical-align: middle;\n",
       "    }\n",
       "\n",
       "    .dataframe tbody tr th {\n",
       "        vertical-align: top;\n",
       "    }\n",
       "\n",
       "    .dataframe thead th {\n",
       "        text-align: right;\n",
       "    }\n",
       "</style>\n",
       "<table border=\"1\" class=\"dataframe\">\n",
       "  <thead>\n",
       "    <tr style=\"text-align: right;\">\n",
       "      <th></th>\n",
       "      <th>AGE</th>\n",
       "      <th>GENDER</th>\n",
       "      <th>RURAL</th>\n",
       "      <th>HB</th>\n",
       "      <th>DURATION OF STAY</th>\n",
       "    </tr>\n",
       "  </thead>\n",
       "  <tbody>\n",
       "    <tr>\n",
       "      <th>count</th>\n",
       "      <td>3665.000000</td>\n",
       "      <td>3665</td>\n",
       "      <td>3665</td>\n",
       "      <td>3665</td>\n",
       "      <td>3665.000000</td>\n",
       "    </tr>\n",
       "    <tr>\n",
       "      <th>unique</th>\n",
       "      <td>NaN</td>\n",
       "      <td>2</td>\n",
       "      <td>2</td>\n",
       "      <td>140</td>\n",
       "      <td>NaN</td>\n",
       "    </tr>\n",
       "    <tr>\n",
       "      <th>top</th>\n",
       "      <td>NaN</td>\n",
       "      <td>M</td>\n",
       "      <td>U</td>\n",
       "      <td>11.4</td>\n",
       "      <td>NaN</td>\n",
       "    </tr>\n",
       "    <tr>\n",
       "      <th>freq</th>\n",
       "      <td>NaN</td>\n",
       "      <td>2215</td>\n",
       "      <td>2822</td>\n",
       "      <td>78</td>\n",
       "      <td>NaN</td>\n",
       "    </tr>\n",
       "    <tr>\n",
       "      <th>mean</th>\n",
       "      <td>64.639291</td>\n",
       "      <td>NaN</td>\n",
       "      <td>NaN</td>\n",
       "      <td>NaN</td>\n",
       "      <td>7.766985</td>\n",
       "    </tr>\n",
       "    <tr>\n",
       "      <th>std</th>\n",
       "      <td>12.508634</td>\n",
       "      <td>NaN</td>\n",
       "      <td>NaN</td>\n",
       "      <td>NaN</td>\n",
       "      <td>5.543078</td>\n",
       "    </tr>\n",
       "    <tr>\n",
       "      <th>min</th>\n",
       "      <td>14.000000</td>\n",
       "      <td>NaN</td>\n",
       "      <td>NaN</td>\n",
       "      <td>NaN</td>\n",
       "      <td>1.000000</td>\n",
       "    </tr>\n",
       "    <tr>\n",
       "      <th>25%</th>\n",
       "      <td>57.000000</td>\n",
       "      <td>NaN</td>\n",
       "      <td>NaN</td>\n",
       "      <td>NaN</td>\n",
       "      <td>4.000000</td>\n",
       "    </tr>\n",
       "    <tr>\n",
       "      <th>50%</th>\n",
       "      <td>65.000000</td>\n",
       "      <td>NaN</td>\n",
       "      <td>NaN</td>\n",
       "      <td>NaN</td>\n",
       "      <td>7.000000</td>\n",
       "    </tr>\n",
       "    <tr>\n",
       "      <th>75%</th>\n",
       "      <td>73.000000</td>\n",
       "      <td>NaN</td>\n",
       "      <td>NaN</td>\n",
       "      <td>NaN</td>\n",
       "      <td>10.000000</td>\n",
       "    </tr>\n",
       "    <tr>\n",
       "      <th>max</th>\n",
       "      <td>110.000000</td>\n",
       "      <td>NaN</td>\n",
       "      <td>NaN</td>\n",
       "      <td>NaN</td>\n",
       "      <td>52.000000</td>\n",
       "    </tr>\n",
       "  </tbody>\n",
       "</table>\n",
       "</div>"
      ],
      "text/plain": [
       "                AGE GENDER RURAL    HB  DURATION OF STAY\n",
       "count   3665.000000   3665  3665  3665       3665.000000\n",
       "unique          NaN      2     2   140               NaN\n",
       "top             NaN      M     U  11.4               NaN\n",
       "freq            NaN   2215  2822    78               NaN\n",
       "mean      64.639291    NaN   NaN   NaN          7.766985\n",
       "std       12.508634    NaN   NaN   NaN          5.543078\n",
       "min       14.000000    NaN   NaN   NaN          1.000000\n",
       "25%       57.000000    NaN   NaN   NaN          4.000000\n",
       "50%       65.000000    NaN   NaN   NaN          7.000000\n",
       "75%       73.000000    NaN   NaN   NaN         10.000000\n",
       "max      110.000000    NaN   NaN   NaN         52.000000"
      ]
     },
     "execution_count": 325,
     "metadata": {},
     "output_type": "execute_result"
    }
   ],
   "source": [
    "heart_failure_data = df_copy[df_copy['HEART FAILURE'] == 1]\n",
    "selected_columns = ['AGE', 'GENDER', 'RURAL', 'HB', 'DURATION OF STAY']\n",
    "heart_failure_characteristics = heart_failure_data[selected_columns]\n",
    "heart_failure_stats = heart_failure_characteristics.describe(include='all')\n",
    "\n",
    "heart_failure_stats"
   ]
  },
  {
   "cell_type": "markdown",
   "metadata": {},
   "source": [
    "#### 3. Penyakit apa yang terbanyak diderita pasien yang berumur 19 - 25 tahun?"
   ]
  },
  {
   "cell_type": "code",
   "execution_count": 326,
   "metadata": {},
   "outputs": [
    {
     "data": {
      "image/png": "[encoded data removed]",
      "text/plain": [
       "<Figure size 1000x1000 with 1 Axes>"
      ]
     },
     "metadata": {},
     "output_type": "display_data"
    }
   ],
   "source": [
    "age_filtered_data = df_copy[(df_copy['AGE'] >= 19) & (df_copy['AGE'] <= 25)].copy()\n",
    "\n",
    "# Kolom-kolom penyakit\n",
    "start_index = df_copy.columns.get_loc('DM')\n",
    "end_index = df_copy.columns.get_loc('CKD') + 1\n",
    "disease_columns = df_copy.columns[start_index:end_index].tolist()\n",
    "\n",
    "start_index = df_copy.columns.get_loc('SEVERE ANAEMIA')\n",
    "end_index = df_copy.columns.get_loc('CHEST INFECTION') + 1\n",
    "disease_columns += df_copy.columns[start_index:end_index].tolist()\n",
    "\n",
    "age_filtered_data.loc[:, 'CHEST INFECTION'] = pd.to_numeric(age_filtered_data['CHEST INFECTION'], errors='coerce')\n",
    "column_sums = age_filtered_data[disease_columns].sum().sort_values()\n",
    "\n",
    "plt.figure(figsize=(10, 10))\n",
    "column_sums.plot(kind='barh')\n",
    "plt.show()"
   ]
  },
  {
   "cell_type": "markdown",
   "metadata": {},
   "source": [
    "#### 4. Apakah pasien yang memiliki kebiasan merokok dan tinggal di daerah urban memiliki rata-rata komplikasi penyakit yang lebih banyak dibandingkan pasien yang memiliki kebiasan merokok dan tinggal di daerah rural? (komplikasi penyakit dapat diketahui dari jumlah penyakit yang diderita suatu pasien) "
   ]
  },
  {
   "cell_type": "code",
   "execution_count": 327,
   "metadata": {},
   "outputs": [
    {
     "data": {
      "text/plain": [
       "(3.4763779527559056, 3.4390243902439024)"
      ]
     },
     "execution_count": 327,
     "metadata": {},
     "output_type": "execute_result"
    }
   ],
   "source": [
    "# Filter data untuk perokok perkotaan dan pedesaan\n",
    "urban_smoke = df_copy[(df_copy['SMOKING '] == 1) & (df_copy['RURAL'] == \"U\")].copy()\n",
    "rural_smoke = df_copy[(df_copy['SMOKING '] == 1) & (df_copy['RURAL'] == \"R\")].copy()\n",
    "\n",
    "# Kolom-kolom penyakit\n",
    "start_index = df_copy.columns.get_loc('DM')\n",
    "end_index = df_copy.columns.get_loc('CKD') + 1\n",
    "disease_columns = df_copy.columns[start_index:end_index].tolist()\n",
    "\n",
    "start_index = df_copy.columns.get_loc('SEVERE ANAEMIA')\n",
    "end_index = df_copy.columns.get_loc('CHEST INFECTION') + 1\n",
    "disease_columns += df_copy.columns[start_index:end_index].tolist()\n",
    "\n",
    "# Mengonversi 'CHEST INFECTION' ke numerik\n",
    "urban_smoke['CHEST INFECTION'] = pd.to_numeric(urban_smoke['CHEST INFECTION'], errors='coerce')\n",
    "rural_smoke['CHEST INFECTION'] = pd.to_numeric(rural_smoke['CHEST INFECTION'], errors='coerce')\n",
    "\n",
    "# Menghitung jumlah penyakit untuk setiap baris\n",
    "urban_smoke['disease_sum'] = urban_smoke[disease_columns].sum(axis=1)\n",
    "rural_smoke['disease_sum'] = rural_smoke[disease_columns].sum(axis=1)\n",
    "\n",
    "# Menghitung rata-rata jumlah penyakit untuk perokok perkotaan dan pedesaan\n",
    "urban_mean = urban_smoke['disease_sum'].mean()\n",
    "rural_mean = rural_smoke['disease_sum'].mean()\n",
    "\n",
    "urban_mean, rural_mean"
   ]
  },
  {
   "cell_type": "markdown",
   "metadata": {},
   "source": [
    "## Data Cleaning"
   ]
  },
  {
   "cell_type": "markdown",
   "metadata": {},
   "source": [
    "### Cek Missing Values"
   ]
  },
  {
   "cell_type": "code",
   "execution_count": 328,
   "metadata": {},
   "outputs": [
    {
     "data": {
      "text/plain": [
       "(12551, 56)"
      ]
     },
     "execution_count": 328,
     "metadata": {},
     "output_type": "execute_result"
    }
   ],
   "source": [
    "df.shape"
   ]
  },
  {
   "cell_type": "code",
   "execution_count": 329,
   "metadata": {},
   "outputs": [],
   "source": [
    "def cek_null(df):\n",
    "    col_na = df.isnull().sum().sort_values(ascending=True)\n",
    "    percent = col_na*100 / len(df)\n",
    "\n",
    "    missing_data = pd.concat([col_na, percent], axis=1, keys=['Total', 'Percent'])\n",
    "\n",
    "    if (missing_data[missing_data['Total'] > 0].shape[0] == 0):\n",
    "        print(\"Tidak ditemukan missing value pada dataset\")\n",
    "\n",
    "    else:\n",
    "        print(missing_data[missing_data['Total'] > 0])"
   ]
  },
  {
   "cell_type": "code",
   "execution_count": 330,
   "metadata": {},
   "outputs": [
    {
     "name": "stdout",
     "output_type": "stream",
     "text": [
      "            Total    Percent\n",
      "UREA           25   0.199187\n",
      "PLATELETS      29   0.231057\n",
      "TLC            30   0.239025\n",
      "CREATININE     31   0.246992\n",
      "GLUCOSE       580   4.621146\n",
      "EF           1194   9.513186\n",
      "BNP          6615  52.704964\n"
     ]
    }
   ],
   "source": [
    "cek_null(df)"
   ]
  },
  {
   "cell_type": "markdown",
   "metadata": {},
   "source": [
    "Missing values pada kolom BNP terlalu banyak, saya memutuskan untuk melakukan drop kolom tersebut. Untuk kolom sisanya yang masih terdapat missing values akan dihandle ketika data preprocessing."
   ]
  },
  {
   "cell_type": "code",
   "execution_count": 331,
   "metadata": {},
   "outputs": [
    {
     "data": {
      "text/html": [
       "<div>\n",
       "<style scoped>\n",
       "    .dataframe tbody tr th:only-of-type {\n",
       "        vertical-align: middle;\n",
       "    }\n",
       "\n",
       "    .dataframe tbody tr th {\n",
       "        vertical-align: top;\n",
       "    }\n",
       "\n",
       "    .dataframe thead th {\n",
       "        text-align: right;\n",
       "    }\n",
       "</style>\n",
       "<table border=\"1\" class=\"dataframe\">\n",
       "  <thead>\n",
       "    <tr style=\"text-align: right;\">\n",
       "      <th></th>\n",
       "      <th>SNO</th>\n",
       "      <th>MRD No.</th>\n",
       "      <th>D.O.A</th>\n",
       "      <th>D.O.D</th>\n",
       "      <th>AGE</th>\n",
       "      <th>GENDER</th>\n",
       "      <th>RURAL</th>\n",
       "      <th>TYPE OF ADMISSION-EMERGENCY/OPD</th>\n",
       "      <th>month year</th>\n",
       "      <th>DURATION OF STAY</th>\n",
       "      <th>...</th>\n",
       "      <th>NEURO CARDIOGENIC SYNCOPE</th>\n",
       "      <th>ORTHOSTATIC</th>\n",
       "      <th>INFECTIVE ENDOCARDITIS</th>\n",
       "      <th>DVT</th>\n",
       "      <th>CARDIOGENIC SHOCK</th>\n",
       "      <th>SHOCK</th>\n",
       "      <th>PULMONARY EMBOLISM</th>\n",
       "      <th>CHEST INFECTION</th>\n",
       "      <th>OUTCOME</th>\n",
       "      <th>HB</th>\n",
       "    </tr>\n",
       "  </thead>\n",
       "  <tbody>\n",
       "    <tr>\n",
       "      <th>0</th>\n",
       "      <td>3615</td>\n",
       "      <td>344173</td>\n",
       "      <td>10/9/2017</td>\n",
       "      <td>10/15/2017</td>\n",
       "      <td>63</td>\n",
       "      <td>F</td>\n",
       "      <td>U</td>\n",
       "      <td>O</td>\n",
       "      <td>Oct-17</td>\n",
       "      <td>7</td>\n",
       "      <td>...</td>\n",
       "      <td>0</td>\n",
       "      <td>0</td>\n",
       "      <td>0</td>\n",
       "      <td>0</td>\n",
       "      <td>0</td>\n",
       "      <td>0</td>\n",
       "      <td>0</td>\n",
       "      <td>0</td>\n",
       "      <td>DISCHARGE</td>\n",
       "      <td>10.9</td>\n",
       "    </tr>\n",
       "    <tr>\n",
       "      <th>1</th>\n",
       "      <td>14308</td>\n",
       "      <td>665288</td>\n",
       "      <td>04/02/2019</td>\n",
       "      <td>08/02/2019</td>\n",
       "      <td>47</td>\n",
       "      <td>M</td>\n",
       "      <td>U</td>\n",
       "      <td>O</td>\n",
       "      <td>Feb-19</td>\n",
       "      <td>5</td>\n",
       "      <td>...</td>\n",
       "      <td>0</td>\n",
       "      <td>0</td>\n",
       "      <td>0</td>\n",
       "      <td>0</td>\n",
       "      <td>0</td>\n",
       "      <td>0</td>\n",
       "      <td>0</td>\n",
       "      <td>0</td>\n",
       "      <td>DISCHARGE</td>\n",
       "      <td>15</td>\n",
       "    </tr>\n",
       "    <tr>\n",
       "      <th>2</th>\n",
       "      <td>3303</td>\n",
       "      <td>203598</td>\n",
       "      <td>25/09/2017</td>\n",
       "      <td>26/09/2017</td>\n",
       "      <td>59</td>\n",
       "      <td>M</td>\n",
       "      <td>U</td>\n",
       "      <td>E</td>\n",
       "      <td>Sep-17</td>\n",
       "      <td>2</td>\n",
       "      <td>...</td>\n",
       "      <td>0</td>\n",
       "      <td>0</td>\n",
       "      <td>0</td>\n",
       "      <td>0</td>\n",
       "      <td>0</td>\n",
       "      <td>0</td>\n",
       "      <td>0</td>\n",
       "      <td>0</td>\n",
       "      <td>DISCHARGE</td>\n",
       "      <td>13.7</td>\n",
       "    </tr>\n",
       "    <tr>\n",
       "      <th>3</th>\n",
       "      <td>15405</td>\n",
       "      <td>640386</td>\n",
       "      <td>17/03/2019</td>\n",
       "      <td>25/03/2019</td>\n",
       "      <td>62</td>\n",
       "      <td>M</td>\n",
       "      <td>R</td>\n",
       "      <td>E</td>\n",
       "      <td>Mar-19</td>\n",
       "      <td>9</td>\n",
       "      <td>...</td>\n",
       "      <td>0</td>\n",
       "      <td>0</td>\n",
       "      <td>0</td>\n",
       "      <td>0</td>\n",
       "      <td>0</td>\n",
       "      <td>0</td>\n",
       "      <td>0</td>\n",
       "      <td>0</td>\n",
       "      <td>DISCHARGE</td>\n",
       "      <td>13.3</td>\n",
       "    </tr>\n",
       "    <tr>\n",
       "      <th>4</th>\n",
       "      <td>2232</td>\n",
       "      <td>168189</td>\n",
       "      <td>7/28/2017</td>\n",
       "      <td>8/1/2017</td>\n",
       "      <td>55</td>\n",
       "      <td>F</td>\n",
       "      <td>U</td>\n",
       "      <td>E</td>\n",
       "      <td>Jul-17</td>\n",
       "      <td>5</td>\n",
       "      <td>...</td>\n",
       "      <td>0</td>\n",
       "      <td>0</td>\n",
       "      <td>0</td>\n",
       "      <td>0</td>\n",
       "      <td>0</td>\n",
       "      <td>0</td>\n",
       "      <td>0</td>\n",
       "      <td>0</td>\n",
       "      <td>DISCHARGE</td>\n",
       "      <td>11.8</td>\n",
       "    </tr>\n",
       "    <tr>\n",
       "      <th>...</th>\n",
       "      <td>...</td>\n",
       "      <td>...</td>\n",
       "      <td>...</td>\n",
       "      <td>...</td>\n",
       "      <td>...</td>\n",
       "      <td>...</td>\n",
       "      <td>...</td>\n",
       "      <td>...</td>\n",
       "      <td>...</td>\n",
       "      <td>...</td>\n",
       "      <td>...</td>\n",
       "      <td>...</td>\n",
       "      <td>...</td>\n",
       "      <td>...</td>\n",
       "      <td>...</td>\n",
       "      <td>...</td>\n",
       "      <td>...</td>\n",
       "      <td>...</td>\n",
       "      <td>...</td>\n",
       "      <td>...</td>\n",
       "      <td>...</td>\n",
       "    </tr>\n",
       "    <tr>\n",
       "      <th>12546</th>\n",
       "      <td>5032</td>\n",
       "      <td>377273</td>\n",
       "      <td>12/8/2017</td>\n",
       "      <td>12/11/2017</td>\n",
       "      <td>65</td>\n",
       "      <td>F</td>\n",
       "      <td>U</td>\n",
       "      <td>O</td>\n",
       "      <td>Dec-17</td>\n",
       "      <td>4</td>\n",
       "      <td>...</td>\n",
       "      <td>0</td>\n",
       "      <td>0</td>\n",
       "      <td>0</td>\n",
       "      <td>0</td>\n",
       "      <td>0</td>\n",
       "      <td>0</td>\n",
       "      <td>0</td>\n",
       "      <td>0</td>\n",
       "      <td>DISCHARGE</td>\n",
       "      <td>11.9</td>\n",
       "    </tr>\n",
       "    <tr>\n",
       "      <th>12547</th>\n",
       "      <td>7031</td>\n",
       "      <td>451050</td>\n",
       "      <td>03/03/2018</td>\n",
       "      <td>14/03/2018</td>\n",
       "      <td>55</td>\n",
       "      <td>F</td>\n",
       "      <td>U</td>\n",
       "      <td>E</td>\n",
       "      <td>Mar-18</td>\n",
       "      <td>12</td>\n",
       "      <td>...</td>\n",
       "      <td>0</td>\n",
       "      <td>0</td>\n",
       "      <td>0</td>\n",
       "      <td>1</td>\n",
       "      <td>0</td>\n",
       "      <td>1</td>\n",
       "      <td>0</td>\n",
       "      <td>0</td>\n",
       "      <td>DISCHARGE</td>\n",
       "      <td>20.9</td>\n",
       "    </tr>\n",
       "    <tr>\n",
       "      <th>12548</th>\n",
       "      <td>5795</td>\n",
       "      <td>353502</td>\n",
       "      <td>1/6/2018</td>\n",
       "      <td>1/17/2018</td>\n",
       "      <td>86</td>\n",
       "      <td>M</td>\n",
       "      <td>U</td>\n",
       "      <td>E</td>\n",
       "      <td>Jan-18</td>\n",
       "      <td>12</td>\n",
       "      <td>...</td>\n",
       "      <td>0</td>\n",
       "      <td>0</td>\n",
       "      <td>0</td>\n",
       "      <td>0</td>\n",
       "      <td>1</td>\n",
       "      <td>1</td>\n",
       "      <td>0</td>\n",
       "      <td>0</td>\n",
       "      <td>EXPIRY</td>\n",
       "      <td>9.3</td>\n",
       "    </tr>\n",
       "    <tr>\n",
       "      <th>12549</th>\n",
       "      <td>1373</td>\n",
       "      <td>286711</td>\n",
       "      <td>6/14/2017</td>\n",
       "      <td>6/15/2017</td>\n",
       "      <td>46</td>\n",
       "      <td>M</td>\n",
       "      <td>U</td>\n",
       "      <td>O</td>\n",
       "      <td>Jun-17</td>\n",
       "      <td>2</td>\n",
       "      <td>...</td>\n",
       "      <td>0</td>\n",
       "      <td>0</td>\n",
       "      <td>0</td>\n",
       "      <td>0</td>\n",
       "      <td>0</td>\n",
       "      <td>0</td>\n",
       "      <td>0</td>\n",
       "      <td>0</td>\n",
       "      <td>DISCHARGE</td>\n",
       "      <td>16.3</td>\n",
       "    </tr>\n",
       "    <tr>\n",
       "      <th>12550</th>\n",
       "      <td>6870</td>\n",
       "      <td>445881</td>\n",
       "      <td>23/02/2018</td>\n",
       "      <td>24/02/2018</td>\n",
       "      <td>60</td>\n",
       "      <td>M</td>\n",
       "      <td>U</td>\n",
       "      <td>O</td>\n",
       "      <td>Feb-18</td>\n",
       "      <td>2</td>\n",
       "      <td>...</td>\n",
       "      <td>0</td>\n",
       "      <td>0</td>\n",
       "      <td>0</td>\n",
       "      <td>0</td>\n",
       "      <td>0</td>\n",
       "      <td>0</td>\n",
       "      <td>0</td>\n",
       "      <td>0</td>\n",
       "      <td>DAMA</td>\n",
       "      <td>11.8</td>\n",
       "    </tr>\n",
       "  </tbody>\n",
       "</table>\n",
       "<p>12551 rows × 55 columns</p>\n",
       "</div>"
      ],
      "text/plain": [
       "         SNO MRD No.       D.O.A       D.O.D  AGE GENDER RURAL  \\\n",
       "0       3615  344173   10/9/2017  10/15/2017   63      F     U   \n",
       "1      14308  665288  04/02/2019  08/02/2019   47      M     U   \n",
       "2       3303  203598  25/09/2017  26/09/2017   59      M     U   \n",
       "3      15405  640386  17/03/2019  25/03/2019   62      M     R   \n",
       "4       2232  168189   7/28/2017    8/1/2017   55      F     U   \n",
       "...      ...     ...         ...         ...  ...    ...   ...   \n",
       "12546   5032  377273   12/8/2017  12/11/2017   65      F     U   \n",
       "12547   7031  451050  03/03/2018  14/03/2018   55      F     U   \n",
       "12548   5795  353502    1/6/2018   1/17/2018   86      M     U   \n",
       "12549   1373  286711   6/14/2017   6/15/2017   46      M     U   \n",
       "12550   6870  445881  23/02/2018  24/02/2018   60      M     U   \n",
       "\n",
       "      TYPE OF ADMISSION-EMERGENCY/OPD month year  DURATION OF STAY  ...  \\\n",
       "0                                   O     Oct-17                 7  ...   \n",
       "1                                   O     Feb-19                 5  ...   \n",
       "2                                   E     Sep-17                 2  ...   \n",
       "3                                   E     Mar-19                 9  ...   \n",
       "4                                   E     Jul-17                 5  ...   \n",
       "...                               ...        ...               ...  ...   \n",
       "12546                               O     Dec-17                 4  ...   \n",
       "12547                               E     Mar-18                12  ...   \n",
       "12548                               E     Jan-18                12  ...   \n",
       "12549                               O     Jun-17                 2  ...   \n",
       "12550                               O     Feb-18                 2  ...   \n",
       "\n",
       "       NEURO CARDIOGENIC SYNCOPE  ORTHOSTATIC  INFECTIVE ENDOCARDITIS  DVT  \\\n",
       "0                              0            0                       0    0   \n",
       "1                              0            0                       0    0   \n",
       "2                              0            0                       0    0   \n",
       "3                              0            0                       0    0   \n",
       "4                              0            0                       0    0   \n",
       "...                          ...          ...                     ...  ...   \n",
       "12546                          0            0                       0    0   \n",
       "12547                          0            0                       0    1   \n",
       "12548                          0            0                       0    0   \n",
       "12549                          0            0                       0    0   \n",
       "12550                          0            0                       0    0   \n",
       "\n",
       "       CARDIOGENIC SHOCK  SHOCK  PULMONARY EMBOLISM  CHEST INFECTION  \\\n",
       "0                      0      0                   0                0   \n",
       "1                      0      0                   0                0   \n",
       "2                      0      0                   0                0   \n",
       "3                      0      0                   0                0   \n",
       "4                      0      0                   0                0   \n",
       "...                  ...    ...                 ...              ...   \n",
       "12546                  0      0                   0                0   \n",
       "12547                  0      1                   0                0   \n",
       "12548                  1      1                   0                0   \n",
       "12549                  0      0                   0                0   \n",
       "12550                  0      0                   0                0   \n",
       "\n",
       "         OUTCOME    HB  \n",
       "0      DISCHARGE  10.9  \n",
       "1      DISCHARGE    15  \n",
       "2      DISCHARGE  13.7  \n",
       "3      DISCHARGE  13.3  \n",
       "4      DISCHARGE  11.8  \n",
       "...          ...   ...  \n",
       "12546  DISCHARGE  11.9  \n",
       "12547  DISCHARGE  20.9  \n",
       "12548     EXPIRY   9.3  \n",
       "12549  DISCHARGE  16.3  \n",
       "12550       DAMA  11.8  \n",
       "\n",
       "[12551 rows x 55 columns]"
      ]
     },
     "execution_count": 331,
     "metadata": {},
     "output_type": "execute_result"
    }
   ],
   "source": [
    "df.drop('BNP', axis=1)"
   ]
  },
  {
   "cell_type": "markdown",
   "metadata": {},
   "source": [
    "### Cek Duplications"
   ]
  },
  {
   "cell_type": "code",
   "execution_count": 332,
   "metadata": {},
   "outputs": [
    {
     "data": {
      "text/plain": [
       "False"
      ]
     },
     "execution_count": 332,
     "metadata": {},
     "output_type": "execute_result"
    }
   ],
   "source": [
    "df.duplicated().any()"
   ]
  },
  {
   "cell_type": "markdown",
   "metadata": {},
   "source": [
    "Tidak ada entry duplikat pada dataset."
   ]
  },
  {
   "cell_type": "markdown",
   "metadata": {},
   "source": [
    "### Cek Outliers"
   ]
  },
  {
   "cell_type": "code",
   "execution_count": 333,
   "metadata": {},
   "outputs": [
    {
     "data": {
      "image/png": "[encoded data removed]",
      "text/plain": [
       "<Figure size 1500x1000 with 1 Axes>"
      ]
     },
     "metadata": {},
     "output_type": "display_data"
    },
    {
     "data": {
      "image/png": "[encoded data removed]",
      "text/plain": [
       "<Figure size 1500x1000 with 1 Axes>"
      ]
     },
     "metadata": {},
     "output_type": "display_data"
    },
    {
     "data": {
      "image/png": "[encoded data removed]",
      "text/plain": [
       "<Figure size 1500x1000 with 1 Axes>"
      ]
     },
     "metadata": {},
     "output_type": "display_data"
    }
   ],
   "source": [
    "df_numeric = df.select_dtypes(exclude=['object'])\n",
    "\n",
    "binary_columns = [col for col in df_numeric.columns if df_numeric[col].dropna().isin([0, 1]).all()]\n",
    "df_non_binary = df_numeric.drop(columns=binary_columns + ['SNO'])\n",
    "\n",
    "# Tampilkan boxplot untuk kolom numerik yang tidak memiliki binary value\n",
    "for column in df_non_binary.columns:\n",
    "    plt.figure(figsize=(15, 10))\n",
    "    sns.boxplot(data=df_non_binary, y=column)\n",
    "    plt.title(f'Boxplot of {column}')\n",
    "    plt.show()"
   ]
  },
  {
   "cell_type": "code",
   "execution_count": 334,
   "metadata": {},
   "outputs": [],
   "source": [
    "def check_outlier(df):\n",
    "    Q1 = df.quantile(0.25)\n",
    "    Q3 = df.quantile(0.75)\n",
    "\n",
    "    # Menghitung RUB dan RLB.\n",
    "    IQR = Q3 - Q1\n",
    "    lower_limit = Q1 - 1.5*IQR\n",
    "    upper_limit = Q3 + 1.5*IQR\n",
    "\n",
    "    # Menampilkan banyaknya outlier pada atribut.\n",
    "    outliers = (df < lower_limit) | (df > upper_limit)\n",
    "    print (\"Outlier pada tiap atribut:\")\n",
    "    print(outliers.sum())\n",
    "\n",
    "    return outliers"
   ]
  },
  {
   "cell_type": "code",
   "execution_count": 335,
   "metadata": {},
   "outputs": [
    {
     "name": "stdout",
     "output_type": "stream",
     "text": [
      "Outlier pada tiap atribut:\n",
      "SNO                                   0\n",
      "AGE                                 267\n",
      "DURATION OF STAY                    585\n",
      "duration of intensive unit stay     542\n",
      "SMOKING                             631\n",
      "ALCOHOL                             836\n",
      "DM                                    0\n",
      "HTN                                   0\n",
      "CAD                                   0\n",
      "PRIOR CMP                          1968\n",
      "CKD                                1239\n",
      "RAISED CARDIAC ENZYMES             2506\n",
      "SEVERE ANAEMIA                      245\n",
      "ANAEMIA                            2238\n",
      "STABLE ANGINA                      1048\n",
      "ACS                                   0\n",
      "STEMI                              1775\n",
      "ATYPICAL CHEST PAIN                 333\n",
      "HEART FAILURE                         0\n",
      "HFREF                              1964\n",
      "HFNEF                              1711\n",
      "VALVULAR                            439\n",
      "CHB                                 314\n",
      "SSS                                  85\n",
      "AKI                                2807\n",
      "CVA INFRACT                         372\n",
      "CVA BLEED                            47\n",
      "AF                                  617\n",
      "VT                                  415\n",
      "PSVT                                 98\n",
      "CONGENITAL                          138\n",
      "UTI                                 772\n",
      "NEURO CARDIOGENIC SYNCOPE           104\n",
      "ORTHOSTATIC                         102\n",
      "INFECTIVE ENDOCARDITIS               22\n",
      "DVT                                 172\n",
      "CARDIOGENIC SHOCK                   730\n",
      "SHOCK                               534\n",
      "PULMONARY EMBOLISM                  184\n",
      "dtype: int64\n"
     ]
    }
   ],
   "source": [
    "outliers = dict(check_outlier(df_numeric).sum())"
   ]
  },
  {
   "cell_type": "markdown",
   "metadata": {},
   "source": [
    "Hipotesis: <br>\n",
    "Menurut saya, nilai-nilai outliers dari kolom-kolom di atas mungkin saja terjadi di dunia nyata. Mengingat pentingnya tidak kehilangan informasi dalam konteks medis, saya memilih untuk biarkan saja outlier ini karena tidak ingin kehilangan potensi informasi penting tentang pasien dengan nilai ekstrem yang mungkin menyebabkan durasi pasien dirawat secara intensif cukup lama."
   ]
  },
  {
   "cell_type": "markdown",
   "metadata": {},
   "source": [
    "## Data Preprocessing"
   ]
  },
  {
   "cell_type": "code",
   "execution_count": 336,
   "metadata": {},
   "outputs": [],
   "source": [
    "# Drop Serial Number dan Admission Number karena tidak berisi informasi apapun\n",
    "# Drop D.O.A dan D.O.D karena sudah direpresentasikan melalui kolom lain\n",
    "df.drop(columns=['SNO', 'MRD No.', 'D.O.A', 'D.O.D'], inplace=True)"
   ]
  },
  {
   "cell_type": "code",
   "execution_count": 337,
   "metadata": {},
   "outputs": [],
   "source": [
    "df['GENDER'] = df['GENDER'].map({'M': 1, 'F': 0})\n",
    "df['RURAL'] = df['RURAL'].map({'R': 1, 'U': 0})\n",
    "df['TYPE OF ADMISSION-EMERGENCY/OPD'] = df['TYPE OF ADMISSION-EMERGENCY/OPD'].map({'E': 1, 'O': 0})"
   ]
  },
  {
   "cell_type": "code",
   "execution_count": 338,
   "metadata": {},
   "outputs": [
    {
     "name": "stderr",
     "output_type": "stream",
     "text": [
      "C:\\Users\\680543\\AppData\\Local\\Temp\\ipykernel_4600\\2089152262.py:2: FutureWarning: A value is trying to be set on a copy of a DataFrame or Series through chained assignment using an inplace method.\n",
      "The behavior will change in pandas 3.0. This inplace method will never work because the intermediate object on which we are setting values always behaves as a copy.\n",
      "\n",
      "For example, when doing 'df[col].method(value, inplace=True)', try using 'df.method({col: value}, inplace=True)' or df[col] = df[col].method(value) instead, to perform the operation inplace on the original object.\n",
      "\n",
      "\n",
      "  df['CHEST INFECTION'].replace({'\\\\': pd.NA}, inplace=True)\n"
     ]
    }
   ],
   "source": [
    "columns_to_convert = ['TLC', 'PLATELETS', 'GLUCOSE', 'UREA', 'CREATININE', 'BNP', 'EF', 'CHEST INFECTION', 'HB']\n",
    "df['CHEST INFECTION'].replace({'\\\\': pd.NA}, inplace=True)\n",
    "\n",
    "for col in columns_to_convert:\n",
    "    df[col] = pd.to_numeric(df[col], errors='coerce')"
   ]
  },
  {
   "cell_type": "code",
   "execution_count": 339,
   "metadata": {},
   "outputs": [],
   "source": [
    "df[['month', 'year']] = df['month year'].str.split('-', expand=True)\n",
    "\n",
    "month_mapping = {\n",
    "    'Jan': 1, 'Feb': 2, 'Mar': 3, 'Apr': 4,\n",
    "    'May': 5, 'Jun': 6, 'Jul': 7, 'Aug': 8,\n",
    "    'Sep': 9, 'Oct': 10, 'Nov': 11, 'Dec': 12\n",
    "}\n",
    "\n",
    "df['year'] = df['year'].astype(int)\n",
    "df['month'] = df['month'].map(month_mapping)\n",
    "\n",
    "df.drop(['month year'], axis=1, inplace=True)"
   ]
  },
  {
   "cell_type": "code",
   "execution_count": 340,
   "metadata": {},
   "outputs": [],
   "source": [
    "outcome_mapping = {\n",
    "    'DAMA': 0,\n",
    "    'DISCHARGE': 1,\n",
    "    'EXPIRY': 2\n",
    "}\n",
    "\n",
    "df['OUTCOME'] = df['OUTCOME'].map(outcome_mapping)"
   ]
  },
  {
   "cell_type": "code",
   "execution_count": 341,
   "metadata": {},
   "outputs": [],
   "source": [
    "# Lakukan imputasi untuk mengisi missing values\n",
    "df = df.fillna(df.median())"
   ]
  },
  {
   "cell_type": "markdown",
   "metadata": {},
   "source": [
    "## Modeling"
   ]
  },
  {
   "cell_type": "code",
   "execution_count": 342,
   "metadata": {},
   "outputs": [],
   "source": [
    "from sklearn.model_selection import train_test_split\n",
    "from sklearn.metrics import f1_score, r2_score\n",
    "from catboost import CatBoostRegressor\n",
    "from sklearn.linear_model import LinearRegression, Ridge, Lasso\n",
    "from sklearn.ensemble import RandomForestClassifier, AdaBoostClassifier\n",
    "from sklearn.tree import DecisionTreeClassifier\n",
    "from xgboost import XGBClassifier\n",
    "from catboost import CatBoostClassifier\n",
    "from sklearn.model_selection import GridSearchCV, KFold, cross_val_score, RandomizedSearchCV"
   ]
  },
  {
   "cell_type": "markdown",
   "metadata": {},
   "source": [
    "### Klasifikasi"
   ]
  },
  {
   "cell_type": "code",
   "execution_count": 343,
   "metadata": {},
   "outputs": [],
   "source": [
    "from sklearn.metrics import precision_score, \\\n",
    "    recall_score, classification_report, \\\n",
    "    accuracy_score, f1_score\n",
    "\n",
    "\n",
    "def evaluate_classifier_performance(prediction, y_test):\n",
    "    # Informasi evaluasi secara compact\n",
    "    print(\"Hasil Evaluasi berdasarkan classification report \\n\\n%s\\n\" % (classification_report(y_test, prediction,zero_division=0)))\n",
    "    print()\n",
    "    print(\"Confusion Matrix\")\n",
    "    print()\n",
    "    y_actual = pd.Series(np.array(y_test), name = \"actual\")\n",
    "    y_pred = pd.Series(np.array(prediction), name = \"prediction\")\n",
    "    df_confusion = pd.crosstab(y_actual, y_pred)\n",
    "    display(df_confusion)\n",
    "    print()\n",
    "    print()\n",
    "\n",
    "    print(\"Another Metrics : \")\n",
    "    print('Accuracy Average:', accuracy_score(y_test, prediction))\n",
    "    print('F1 Macro Average:', f1_score(y_test, prediction, average='macro'))\n",
    "    print('F1 Micro Average:', f1_score(y_test, prediction, average='micro'))\n",
    "    print('Precision Macro Average:', precision_score(y_test, prediction, average='macro',zero_division=0))\n",
    "    print('Precision Micro Average:', precision_score(y_test, prediction, average='micro',zero_division=0))\n",
    "    print('Recall Macro Average:', recall_score(y_test, prediction, average='macro',zero_division=0))\n",
    "    print('Recall Micro Average:', recall_score(y_test, prediction, average='micro',zero_division=0))\n",
    "    print()"
   ]
  },
  {
   "cell_type": "code",
   "execution_count": 344,
   "metadata": {},
   "outputs": [],
   "source": [
    "X_classif = df.drop('OUTCOME', axis=1)\n",
    "y_classif = df['OUTCOME']\n",
    "\n",
    "# 80% data train dan 20% data test\n",
    "X_train_c, X_test_c, y_train_c, y_test_c = train_test_split(X_classif, y_classif, test_size=0.2, random_state=42)"
   ]
  },
  {
   "cell_type": "code",
   "execution_count": 372,
   "metadata": {},
   "outputs": [],
   "source": [
    "def hyperparameter_tuning(model, params, X_train, y_train):\n",
    "    grid_search = GridSearchCV(estimator=model, param_grid=params, cv=5, n_jobs=-1, scoring='f1')\n",
    "    grid_search.fit(X_train, y_train)\n",
    "    print(f\"Best parameters for {model.__class__.__name__}: {grid_search.best_params_}\")\n",
    "    return grid_search.best_estimator_"
   ]
  },
  {
   "cell_type": "code",
   "execution_count": 375,
   "metadata": {},
   "outputs": [
    {
     "name": "stderr",
     "output_type": "stream",
     "text": [
      "c:\\Users\\680543\\AppData\\Local\\Programs\\Python\\Python311\\Lib\\site-packages\\sklearn\\model_selection\\_search.py:1051: UserWarning: One or more of the test scores are non-finite: [nan nan nan nan nan nan nan nan nan nan nan nan nan nan nan nan]\n",
      "  warnings.warn(\n"
     ]
    },
    {
     "name": "stdout",
     "output_type": "stream",
     "text": [
      "Best parameters for XGBClassifier: {'learning_rate': 0.01, 'max_depth': 10, 'n_estimators': 100, 'subsample': 0.8}\n",
      "XGBoost Performance:\n",
      "              precision    recall  f1-score   support\n",
      "\n",
      "           0       0.68      0.17      0.27       157\n",
      "           1       0.93      0.99      0.96      2203\n",
      "           2       0.84      0.64      0.73       151\n",
      "\n",
      "    accuracy                           0.92      2511\n",
      "   macro avg       0.82      0.60      0.65      2511\n",
      "weighted avg       0.91      0.92      0.90      2511\n",
      "\n",
      "XGBoost F1 Score: 0.9195539625647152\n"
     ]
    }
   ],
   "source": [
    "# XGBoost\n",
    "from xgboost import XGBClassifier\n",
    "\n",
    "xgb_params = {\n",
    "    'n_estimators': [100, 200],\n",
    "    'max_depth': [10, 20],\n",
    "    'learning_rate': [0.01, 0.1],\n",
    "    'subsample': [0.8, 1.0]\n",
    "}\n",
    "\n",
    "best_xgb = hyperparameter_tuning(XGBClassifier(use_label_encoder=False, eval_metric='logloss'), xgb_params, X_train_c, y_train_c)\n",
    "y_pred_xgb = best_xgb.predict(X_test_c)\n",
    "\n",
    "print(\"XGBoost Performance:\")\n",
    "print(classification_report(y_test_c, y_pred_xgb, zero_division=0))\n",
    "f1_xgb = f1_score(y_test_c, y_pred_xgb, average='micro')\n",
    "print(f\"XGBoost F1 Score: {f1_xgb}\")"
   ]
  },
  {
   "cell_type": "code",
   "execution_count": 376,
   "metadata": {},
   "outputs": [
    {
     "name": "stderr",
     "output_type": "stream",
     "text": [
      "c:\\Users\\680543\\AppData\\Local\\Programs\\Python\\Python311\\Lib\\site-packages\\sklearn\\model_selection\\_search.py:1051: UserWarning: One or more of the test scores are non-finite: [nan nan nan nan nan nan nan nan nan nan nan nan nan nan nan nan]\n",
      "  warnings.warn(\n"
     ]
    },
    {
     "name": "stdout",
     "output_type": "stream",
     "text": [
      "Best parameters for RandomForestClassifier: {'max_depth': 10, 'min_samples_leaf': 1, 'min_samples_split': 2, 'n_estimators': 100}\n",
      "Random Forest Performance:\n",
      "              precision    recall  f1-score   support\n",
      "\n",
      "           0       0.88      0.04      0.08       157\n",
      "           1       0.91      1.00      0.95      2203\n",
      "           2       0.92      0.55      0.69       151\n",
      "\n",
      "    accuracy                           0.91      2511\n",
      "   macro avg       0.90      0.53      0.58      2511\n",
      "weighted avg       0.91      0.91      0.88      2511\n",
      "\n",
      "Random Forest F1 Score: 0.9119872560732776\n"
     ]
    }
   ],
   "source": [
    "# Random Forest\n",
    "from sklearn.ensemble import RandomForestClassifier\n",
    "\n",
    "rf_params = {\n",
    "    'n_estimators': [100, 200],\n",
    "    'max_depth': [10, 20],\n",
    "    'min_samples_split': [2, 5],\n",
    "    'min_samples_leaf': [1, 2]\n",
    "}\n",
    "\n",
    "best_rf = hyperparameter_tuning(RandomForestClassifier(), rf_params, X_train_c, y_train_c)\n",
    "y_pred_rf = best_rf.predict(X_test_c)\n",
    "\n",
    "print(\"Random Forest Performance:\")\n",
    "print(classification_report(y_test_c, y_pred_rf, zero_division=0))\n",
    "f1_rf = f1_score(y_test_c, y_pred_rf, average='micro')\n",
    "print(f\"Random Forest F1 Score: {f1_rf}\")"
   ]
  },
  {
   "cell_type": "markdown",
   "metadata": {},
   "source": [
    "Dapat terlihat bahwa F1 score yang dihasilkan keduanya hampir mirip. Akan tetapi, score dari model XGBoost lebih tinggi dibandingkan Random Forest."
   ]
  },
  {
   "cell_type": "markdown",
   "metadata": {},
   "source": [
    "### Regresi"
   ]
  },
  {
   "cell_type": "code",
   "execution_count": 350,
   "metadata": {},
   "outputs": [],
   "source": [
    "def regression_metrics(prediction, y_test):\n",
    "    R_squared = r2_score(y_test, prediction)\n",
    "    print('R_squared: ' + str(R_squared))"
   ]
  },
  {
   "cell_type": "code",
   "execution_count": 351,
   "metadata": {},
   "outputs": [],
   "source": [
    "X_regression = df.drop(columns=['duration of intensive unit stay'])\n",
    "y_regression = df['duration of intensive unit stay']\n",
    "\n",
    "X_train_r, X_test_r, y_train_r, y_test_r = train_test_split(X_regression, y_regression, test_size=0.2, random_state=42)"
   ]
  },
  {
   "cell_type": "code",
   "execution_count": 352,
   "metadata": {},
   "outputs": [],
   "source": [
    "models_r = {\n",
    "    'linear_regression': LinearRegression(),\n",
    "    'ridge': Ridge(),\n",
    "    'lasso': Lasso(),\n",
    "    'catboost': CatBoostRegressor(verbose=0)\n",
    "}"
   ]
  },
  {
   "cell_type": "markdown",
   "metadata": {},
   "source": [
    "#### Cross Validation"
   ]
  },
  {
   "cell_type": "code",
   "execution_count": 353,
   "metadata": {},
   "outputs": [
    {
     "name": "stdout",
     "output_type": "stream",
     "text": [
      "linear_regression: 0.686158100454164\n",
      "ridge: 0.6862077101687343\n",
      "lasso: 0.6512758957318442\n",
      "catboost: 0.6935169082351653\n"
     ]
    }
   ],
   "source": [
    "kf = KFold(n_splits=5, shuffle=True, random_state=42)\n",
    "\n",
    "for model in models_r.keys():\n",
    "  models_r[model].fit(X_train_r, y_train_r)\n",
    "  result = cross_val_score(models_r[model], X_train_r, y_train_r, cv=kf, scoring='r2')\n",
    "  print(f'{model}: {result.mean()}')"
   ]
  },
  {
   "cell_type": "code",
   "execution_count": 354,
   "metadata": {},
   "outputs": [
    {
     "name": "stdout",
     "output_type": "stream",
     "text": [
      "linear_regression\n",
      "R_squared: 0.6221887310296947\n",
      "\n",
      "ridge\n",
      "R_squared: 0.622308213565625\n",
      "\n",
      "lasso\n",
      "R_squared: 0.5961610085689846\n",
      "\n",
      "catboost\n",
      "R_squared: 0.6397548105252195\n",
      "\n"
     ]
    }
   ],
   "source": [
    "# Perform model training and evaluation\n",
    "for model in models_r.keys():\n",
    "    predicted = models_r[model].predict(X_test_r)\n",
    "    print(f'{model}')\n",
    "    regression_metrics(predicted, y_test_r)\n",
    "    print(\"\")"
   ]
  },
  {
   "cell_type": "markdown",
   "metadata": {},
   "source": [
    "#### Hyperparameter Tuning"
   ]
  },
  {
   "cell_type": "code",
   "execution_count": 355,
   "metadata": {},
   "outputs": [],
   "source": [
    "param_grid = {\n",
    "    'linear_regression': {},\n",
    "    'ridge': {\n",
    "        'alpha': [0.1, 1.0, 10.0]\n",
    "    },\n",
    "    'lasso': {\n",
    "        'alpha': [0.1, 1.0, 10.0]\n",
    "    },\n",
    "    'catboost': {\n",
    "        'iterations': [100, 200, 300],\n",
    "        'depth': [6, 8, 10],\n",
    "        'learning_rate': [0.01, 0.05, 0.1]\n",
    "    }\n",
    "}"
   ]
  },
  {
   "cell_type": "code",
   "execution_count": 356,
   "metadata": {},
   "outputs": [
    {
     "name": "stdout",
     "output_type": "stream",
     "text": [
      "Fitting 5 folds for each of 3 candidates, totalling 15 fits\n"
     ]
    },
    {
     "name": "stderr",
     "output_type": "stream",
     "text": [
      "c:\\Users\\680543\\AppData\\Local\\Programs\\Python\\Python311\\Lib\\site-packages\\sklearn\\model_selection\\_search.py:318: UserWarning: The total space of parameters 3 is smaller than n_iter=10. Running 3 iterations. For exhaustive searches, use GridSearchCV.\n",
      "  warnings.warn(\n"
     ]
    },
    {
     "name": "stdout",
     "output_type": "stream",
     "text": [
      "Best parameters for ridge: {'alpha': 10.0}\n",
      "Fitting 5 folds for each of 3 candidates, totalling 15 fits\n"
     ]
    },
    {
     "name": "stderr",
     "output_type": "stream",
     "text": [
      "c:\\Users\\680543\\AppData\\Local\\Programs\\Python\\Python311\\Lib\\site-packages\\sklearn\\model_selection\\_search.py:318: UserWarning: The total space of parameters 3 is smaller than n_iter=10. Running 3 iterations. For exhaustive searches, use GridSearchCV.\n",
      "  warnings.warn(\n"
     ]
    },
    {
     "name": "stdout",
     "output_type": "stream",
     "text": [
      "Best parameters for lasso: {'alpha': 0.1}\n",
      "Fitting 5 folds for each of 10 candidates, totalling 50 fits\n",
      "Best parameters for catboost: {'learning_rate': 0.1, 'iterations': 300, 'depth': 6}\n"
     ]
    }
   ],
   "source": [
    "best_models = {}\n",
    "for name, model in models_r.items():\n",
    "    if param_grid[name]:  # Only perform search if there are parameters to tune\n",
    "        search = RandomizedSearchCV(model, param_grid[name], n_iter=10, scoring='r2', cv=5, verbose=1, random_state=42, n_jobs=-1)\n",
    "        search.fit(X_train_r, y_train_r)\n",
    "        best_models[name] = search.best_estimator_\n",
    "        print(f\"Best parameters for {name}: {search.best_params_}\")\n",
    "    else:\n",
    "        model.fit(X_train_r, y_train_r)\n",
    "        best_models[name] = model"
   ]
  },
  {
   "cell_type": "code",
   "execution_count": 357,
   "metadata": {},
   "outputs": [
    {
     "name": "stdout",
     "output_type": "stream",
     "text": [
      "R_squared: 0.6221887310296947\n",
      "R_squared: 0.6228085685757241\n",
      "R_squared: 0.6164765186714982\n",
      "R_squared: 0.6552530807778646\n"
     ]
    }
   ],
   "source": [
    "results = {}\n",
    "for name, model in best_models.items():\n",
    "    predicted = model.predict(X_test_r)\n",
    "    results[name] = regression_metrics(predicted, y_test_r)"
   ]
  },
  {
   "cell_type": "markdown",
   "metadata": {},
   "source": [
    "Dapat terlihat bahwa R_squared terbesar dihasilkan dari model Catboost."
   ]
  },
  {
   "cell_type": "markdown",
   "metadata": {},
   "source": [
    "### Clustering"
   ]
  },
  {
   "cell_type": "code",
   "execution_count": 359,
   "metadata": {},
   "outputs": [],
   "source": [
    "import pandas as pd, numpy as np\n",
    "import matplotlib.pyplot as plt\n",
    "import seaborn as sns\n",
    "from sklearn.cluster import KMeans\n",
    "from sklearn.metrics import silhouette_samples, silhouette_score\n",
    "from yellowbrick.cluster import SilhouetteVisualizer\n",
    "import matplotlib.cm as cm\n",
    "import scipy.cluster.hierarchy as shc\n",
    "from sklearn.cluster import AgglomerativeClustering\n",
    "\n",
    "from sklearn.decomposition import PCA"
   ]
  },
  {
   "cell_type": "code",
   "execution_count": 360,
   "metadata": {},
   "outputs": [
    {
     "data": {
      "text/html": [
       "<div>\n",
       "<style scoped>\n",
       "    .dataframe tbody tr th:only-of-type {\n",
       "        vertical-align: middle;\n",
       "    }\n",
       "\n",
       "    .dataframe tbody tr th {\n",
       "        vertical-align: top;\n",
       "    }\n",
       "\n",
       "    .dataframe thead th {\n",
       "        text-align: right;\n",
       "    }\n",
       "</style>\n",
       "<table border=\"1\" class=\"dataframe\">\n",
       "  <thead>\n",
       "    <tr style=\"text-align: right;\">\n",
       "      <th></th>\n",
       "      <th>AGE</th>\n",
       "      <th>GENDER</th>\n",
       "      <th>RURAL</th>\n",
       "      <th>TYPE OF ADMISSION-EMERGENCY/OPD</th>\n",
       "      <th>DURATION OF STAY</th>\n",
       "      <th>duration of intensive unit stay</th>\n",
       "      <th>SMOKING</th>\n",
       "      <th>ALCOHOL</th>\n",
       "      <th>DM</th>\n",
       "      <th>HTN</th>\n",
       "      <th>...</th>\n",
       "      <th>INFECTIVE ENDOCARDITIS</th>\n",
       "      <th>DVT</th>\n",
       "      <th>CARDIOGENIC SHOCK</th>\n",
       "      <th>SHOCK</th>\n",
       "      <th>PULMONARY EMBOLISM</th>\n",
       "      <th>CHEST INFECTION</th>\n",
       "      <th>OUTCOME</th>\n",
       "      <th>HB</th>\n",
       "      <th>month</th>\n",
       "      <th>year</th>\n",
       "    </tr>\n",
       "  </thead>\n",
       "  <tbody>\n",
       "    <tr>\n",
       "      <th>0</th>\n",
       "      <td>63</td>\n",
       "      <td>0</td>\n",
       "      <td>0</td>\n",
       "      <td>0</td>\n",
       "      <td>7</td>\n",
       "      <td>4</td>\n",
       "      <td>0</td>\n",
       "      <td>0</td>\n",
       "      <td>1</td>\n",
       "      <td>1</td>\n",
       "      <td>...</td>\n",
       "      <td>0</td>\n",
       "      <td>0</td>\n",
       "      <td>0</td>\n",
       "      <td>0</td>\n",
       "      <td>0</td>\n",
       "      <td>0.0</td>\n",
       "      <td>1</td>\n",
       "      <td>10.9</td>\n",
       "      <td>10</td>\n",
       "      <td>17</td>\n",
       "    </tr>\n",
       "    <tr>\n",
       "      <th>1</th>\n",
       "      <td>47</td>\n",
       "      <td>1</td>\n",
       "      <td>0</td>\n",
       "      <td>0</td>\n",
       "      <td>5</td>\n",
       "      <td>0</td>\n",
       "      <td>0</td>\n",
       "      <td>0</td>\n",
       "      <td>0</td>\n",
       "      <td>0</td>\n",
       "      <td>...</td>\n",
       "      <td>0</td>\n",
       "      <td>0</td>\n",
       "      <td>0</td>\n",
       "      <td>0</td>\n",
       "      <td>0</td>\n",
       "      <td>0.0</td>\n",
       "      <td>1</td>\n",
       "      <td>15.0</td>\n",
       "      <td>2</td>\n",
       "      <td>19</td>\n",
       "    </tr>\n",
       "    <tr>\n",
       "      <th>2</th>\n",
       "      <td>59</td>\n",
       "      <td>1</td>\n",
       "      <td>0</td>\n",
       "      <td>1</td>\n",
       "      <td>2</td>\n",
       "      <td>1</td>\n",
       "      <td>0</td>\n",
       "      <td>0</td>\n",
       "      <td>0</td>\n",
       "      <td>1</td>\n",
       "      <td>...</td>\n",
       "      <td>0</td>\n",
       "      <td>0</td>\n",
       "      <td>0</td>\n",
       "      <td>0</td>\n",
       "      <td>0</td>\n",
       "      <td>0.0</td>\n",
       "      <td>1</td>\n",
       "      <td>13.7</td>\n",
       "      <td>9</td>\n",
       "      <td>17</td>\n",
       "    </tr>\n",
       "    <tr>\n",
       "      <th>3</th>\n",
       "      <td>62</td>\n",
       "      <td>1</td>\n",
       "      <td>1</td>\n",
       "      <td>1</td>\n",
       "      <td>9</td>\n",
       "      <td>5</td>\n",
       "      <td>0</td>\n",
       "      <td>0</td>\n",
       "      <td>0</td>\n",
       "      <td>1</td>\n",
       "      <td>...</td>\n",
       "      <td>0</td>\n",
       "      <td>0</td>\n",
       "      <td>0</td>\n",
       "      <td>0</td>\n",
       "      <td>0</td>\n",
       "      <td>0.0</td>\n",
       "      <td>1</td>\n",
       "      <td>13.3</td>\n",
       "      <td>3</td>\n",
       "      <td>19</td>\n",
       "    </tr>\n",
       "    <tr>\n",
       "      <th>4</th>\n",
       "      <td>55</td>\n",
       "      <td>0</td>\n",
       "      <td>0</td>\n",
       "      <td>1</td>\n",
       "      <td>5</td>\n",
       "      <td>3</td>\n",
       "      <td>0</td>\n",
       "      <td>0</td>\n",
       "      <td>0</td>\n",
       "      <td>0</td>\n",
       "      <td>...</td>\n",
       "      <td>0</td>\n",
       "      <td>0</td>\n",
       "      <td>0</td>\n",
       "      <td>0</td>\n",
       "      <td>0</td>\n",
       "      <td>0.0</td>\n",
       "      <td>1</td>\n",
       "      <td>11.8</td>\n",
       "      <td>7</td>\n",
       "      <td>17</td>\n",
       "    </tr>\n",
       "  </tbody>\n",
       "</table>\n",
       "<p>5 rows × 53 columns</p>\n",
       "</div>"
      ],
      "text/plain": [
       "   AGE  GENDER  RURAL  TYPE OF ADMISSION-EMERGENCY/OPD  DURATION OF STAY  \\\n",
       "0   63       0      0                                0                 7   \n",
       "1   47       1      0                                0                 5   \n",
       "2   59       1      0                                1                 2   \n",
       "3   62       1      1                                1                 9   \n",
       "4   55       0      0                                1                 5   \n",
       "\n",
       "   duration of intensive unit stay  SMOKING   ALCOHOL  DM  HTN  ...  \\\n",
       "0                                4         0        0   1    1  ...   \n",
       "1                                0         0        0   0    0  ...   \n",
       "2                                1         0        0   0    1  ...   \n",
       "3                                5         0        0   0    1  ...   \n",
       "4                                3         0        0   0    0  ...   \n",
       "\n",
       "   INFECTIVE ENDOCARDITIS  DVT  CARDIOGENIC SHOCK  SHOCK  PULMONARY EMBOLISM  \\\n",
       "0                       0    0                  0      0                   0   \n",
       "1                       0    0                  0      0                   0   \n",
       "2                       0    0                  0      0                   0   \n",
       "3                       0    0                  0      0                   0   \n",
       "4                       0    0                  0      0                   0   \n",
       "\n",
       "   CHEST INFECTION  OUTCOME    HB  month  year  \n",
       "0              0.0        1  10.9     10    17  \n",
       "1              0.0        1  15.0      2    19  \n",
       "2              0.0        1  13.7      9    17  \n",
       "3              0.0        1  13.3      3    19  \n",
       "4              0.0        1  11.8      7    17  \n",
       "\n",
       "[5 rows x 53 columns]"
      ]
     },
     "execution_count": 360,
     "metadata": {},
     "output_type": "execute_result"
    }
   ],
   "source": [
    "df_clustering = df.copy()\n",
    "df_clustering[np.isinf(df_clustering)] = 0\n",
    "df_clustering.head()"
   ]
  },
  {
   "cell_type": "code",
   "execution_count": 361,
   "metadata": {},
   "outputs": [
    {
     "data": {
      "image/png": "[encoded data removed]",
      "text/plain": [
       "<Figure size 800x550 with 1 Axes>"
      ]
     },
     "metadata": {},
     "output_type": "display_data"
    }
   ],
   "source": [
    "import matplotlib.pyplot as plt\n",
    "import seaborn as sns\n",
    "\n",
    "sns.boxplot(x=df_clustering['duration of intensive unit stay'], color='lightgreen')\n",
    "plt.title('Box Plot Persebaran Data Duration of Intensive Unit Stay')\n",
    "plt.xlabel('Nilai')\n",
    "plt.show()"
   ]
  },
  {
   "cell_type": "code",
   "execution_count": 362,
   "metadata": {},
   "outputs": [],
   "source": [
    "df_clustering = df_clustering[df_clustering['duration of intensive unit stay'] <= 0.50*1e8]"
   ]
  },
  {
   "cell_type": "code",
   "execution_count": 363,
   "metadata": {},
   "outputs": [],
   "source": [
    "from sklearn.preprocessing import MinMaxScaler\n",
    "\n",
    "scaler = MinMaxScaler()\n",
    "df_scaled = pd.DataFrame(scaler.fit_transform(df_clustering), columns=df_clustering.columns)"
   ]
  },
  {
   "cell_type": "code",
   "execution_count": 364,
   "metadata": {},
   "outputs": [
    {
     "data": {
      "text/html": [
       "<div>\n",
       "<style scoped>\n",
       "    .dataframe tbody tr th:only-of-type {\n",
       "        vertical-align: middle;\n",
       "    }\n",
       "\n",
       "    .dataframe tbody tr th {\n",
       "        vertical-align: top;\n",
       "    }\n",
       "\n",
       "    .dataframe thead th {\n",
       "        text-align: right;\n",
       "    }\n",
       "</style>\n",
       "<table border=\"1\" class=\"dataframe\">\n",
       "  <thead>\n",
       "    <tr style=\"text-align: right;\">\n",
       "      <th></th>\n",
       "      <th>AGE</th>\n",
       "      <th>GENDER</th>\n",
       "      <th>RURAL</th>\n",
       "      <th>TYPE OF ADMISSION-EMERGENCY/OPD</th>\n",
       "      <th>DURATION OF STAY</th>\n",
       "      <th>duration of intensive unit stay</th>\n",
       "      <th>SMOKING</th>\n",
       "      <th>ALCOHOL</th>\n",
       "      <th>DM</th>\n",
       "      <th>HTN</th>\n",
       "      <th>...</th>\n",
       "      <th>INFECTIVE ENDOCARDITIS</th>\n",
       "      <th>DVT</th>\n",
       "      <th>CARDIOGENIC SHOCK</th>\n",
       "      <th>SHOCK</th>\n",
       "      <th>PULMONARY EMBOLISM</th>\n",
       "      <th>CHEST INFECTION</th>\n",
       "      <th>OUTCOME</th>\n",
       "      <th>HB</th>\n",
       "      <th>month</th>\n",
       "      <th>year</th>\n",
       "    </tr>\n",
       "  </thead>\n",
       "  <tbody>\n",
       "    <tr>\n",
       "      <th>0</th>\n",
       "      <td>0.556604</td>\n",
       "      <td>0.0</td>\n",
       "      <td>0.0</td>\n",
       "      <td>0.0</td>\n",
       "      <td>0.105263</td>\n",
       "      <td>0.068966</td>\n",
       "      <td>0.0</td>\n",
       "      <td>0.0</td>\n",
       "      <td>1.0</td>\n",
       "      <td>1.0</td>\n",
       "      <td>...</td>\n",
       "      <td>0.0</td>\n",
       "      <td>0.0</td>\n",
       "      <td>0.0</td>\n",
       "      <td>0.0</td>\n",
       "      <td>0.0</td>\n",
       "      <td>0.0</td>\n",
       "      <td>0.5</td>\n",
       "      <td>0.336170</td>\n",
       "      <td>0.818182</td>\n",
       "      <td>0.0</td>\n",
       "    </tr>\n",
       "    <tr>\n",
       "      <th>1</th>\n",
       "      <td>0.405660</td>\n",
       "      <td>1.0</td>\n",
       "      <td>0.0</td>\n",
       "      <td>0.0</td>\n",
       "      <td>0.070175</td>\n",
       "      <td>0.000000</td>\n",
       "      <td>0.0</td>\n",
       "      <td>0.0</td>\n",
       "      <td>0.0</td>\n",
       "      <td>0.0</td>\n",
       "      <td>...</td>\n",
       "      <td>0.0</td>\n",
       "      <td>0.0</td>\n",
       "      <td>0.0</td>\n",
       "      <td>0.0</td>\n",
       "      <td>0.0</td>\n",
       "      <td>0.0</td>\n",
       "      <td>0.5</td>\n",
       "      <td>0.510638</td>\n",
       "      <td>0.090909</td>\n",
       "      <td>1.0</td>\n",
       "    </tr>\n",
       "    <tr>\n",
       "      <th>2</th>\n",
       "      <td>0.518868</td>\n",
       "      <td>1.0</td>\n",
       "      <td>0.0</td>\n",
       "      <td>1.0</td>\n",
       "      <td>0.017544</td>\n",
       "      <td>0.017241</td>\n",
       "      <td>0.0</td>\n",
       "      <td>0.0</td>\n",
       "      <td>0.0</td>\n",
       "      <td>1.0</td>\n",
       "      <td>...</td>\n",
       "      <td>0.0</td>\n",
       "      <td>0.0</td>\n",
       "      <td>0.0</td>\n",
       "      <td>0.0</td>\n",
       "      <td>0.0</td>\n",
       "      <td>0.0</td>\n",
       "      <td>0.5</td>\n",
       "      <td>0.455319</td>\n",
       "      <td>0.727273</td>\n",
       "      <td>0.0</td>\n",
       "    </tr>\n",
       "    <tr>\n",
       "      <th>3</th>\n",
       "      <td>0.547170</td>\n",
       "      <td>1.0</td>\n",
       "      <td>1.0</td>\n",
       "      <td>1.0</td>\n",
       "      <td>0.140351</td>\n",
       "      <td>0.086207</td>\n",
       "      <td>0.0</td>\n",
       "      <td>0.0</td>\n",
       "      <td>0.0</td>\n",
       "      <td>1.0</td>\n",
       "      <td>...</td>\n",
       "      <td>0.0</td>\n",
       "      <td>0.0</td>\n",
       "      <td>0.0</td>\n",
       "      <td>0.0</td>\n",
       "      <td>0.0</td>\n",
       "      <td>0.0</td>\n",
       "      <td>0.5</td>\n",
       "      <td>0.438298</td>\n",
       "      <td>0.181818</td>\n",
       "      <td>1.0</td>\n",
       "    </tr>\n",
       "    <tr>\n",
       "      <th>4</th>\n",
       "      <td>0.481132</td>\n",
       "      <td>0.0</td>\n",
       "      <td>0.0</td>\n",
       "      <td>1.0</td>\n",
       "      <td>0.070175</td>\n",
       "      <td>0.051724</td>\n",
       "      <td>0.0</td>\n",
       "      <td>0.0</td>\n",
       "      <td>0.0</td>\n",
       "      <td>0.0</td>\n",
       "      <td>...</td>\n",
       "      <td>0.0</td>\n",
       "      <td>0.0</td>\n",
       "      <td>0.0</td>\n",
       "      <td>0.0</td>\n",
       "      <td>0.0</td>\n",
       "      <td>0.0</td>\n",
       "      <td>0.5</td>\n",
       "      <td>0.374468</td>\n",
       "      <td>0.545455</td>\n",
       "      <td>0.0</td>\n",
       "    </tr>\n",
       "  </tbody>\n",
       "</table>\n",
       "<p>5 rows × 53 columns</p>\n",
       "</div>"
      ],
      "text/plain": [
       "        AGE  GENDER  RURAL  TYPE OF ADMISSION-EMERGENCY/OPD  DURATION OF STAY  \\\n",
       "0  0.556604     0.0    0.0                              0.0          0.105263   \n",
       "1  0.405660     1.0    0.0                              0.0          0.070175   \n",
       "2  0.518868     1.0    0.0                              1.0          0.017544   \n",
       "3  0.547170     1.0    1.0                              1.0          0.140351   \n",
       "4  0.481132     0.0    0.0                              1.0          0.070175   \n",
       "\n",
       "   duration of intensive unit stay  SMOKING   ALCOHOL   DM  HTN  ...  \\\n",
       "0                         0.068966       0.0      0.0  1.0  1.0  ...   \n",
       "1                         0.000000       0.0      0.0  0.0  0.0  ...   \n",
       "2                         0.017241       0.0      0.0  0.0  1.0  ...   \n",
       "3                         0.086207       0.0      0.0  0.0  1.0  ...   \n",
       "4                         0.051724       0.0      0.0  0.0  0.0  ...   \n",
       "\n",
       "   INFECTIVE ENDOCARDITIS  DVT  CARDIOGENIC SHOCK  SHOCK  PULMONARY EMBOLISM  \\\n",
       "0                     0.0  0.0                0.0    0.0                 0.0   \n",
       "1                     0.0  0.0                0.0    0.0                 0.0   \n",
       "2                     0.0  0.0                0.0    0.0                 0.0   \n",
       "3                     0.0  0.0                0.0    0.0                 0.0   \n",
       "4                     0.0  0.0                0.0    0.0                 0.0   \n",
       "\n",
       "   CHEST INFECTION  OUTCOME        HB     month  year  \n",
       "0              0.0      0.5  0.336170  0.818182   0.0  \n",
       "1              0.0      0.5  0.510638  0.090909   1.0  \n",
       "2              0.0      0.5  0.455319  0.727273   0.0  \n",
       "3              0.0      0.5  0.438298  0.181818   1.0  \n",
       "4              0.0      0.5  0.374468  0.545455   0.0  \n",
       "\n",
       "[5 rows x 53 columns]"
      ]
     },
     "execution_count": 364,
     "metadata": {},
     "output_type": "execute_result"
    }
   ],
   "source": [
    "df_scaled.head()"
   ]
  },
  {
   "cell_type": "code",
   "execution_count": 365,
   "metadata": {},
   "outputs": [
    {
     "name": "stdout",
     "output_type": "stream",
     "text": [
      "<class 'pandas.core.frame.DataFrame'>\n",
      "RangeIndex: 12551 entries, 0 to 12550\n",
      "Data columns (total 53 columns):\n",
      " #   Column                           Non-Null Count  Dtype  \n",
      "---  ------                           --------------  -----  \n",
      " 0   AGE                              12551 non-null  float64\n",
      " 1   GENDER                           12551 non-null  float64\n",
      " 2   RURAL                            12551 non-null  float64\n",
      " 3   TYPE OF ADMISSION-EMERGENCY/OPD  12551 non-null  float64\n",
      " 4   DURATION OF STAY                 12551 non-null  float64\n",
      " 5   duration of intensive unit stay  12551 non-null  float64\n",
      " 6   SMOKING                          12551 non-null  float64\n",
      " 7   ALCOHOL                          12551 non-null  float64\n",
      " 8   DM                               12551 non-null  float64\n",
      " 9   HTN                              12551 non-null  float64\n",
      " 10  CAD                              12551 non-null  float64\n",
      " 11  PRIOR CMP                        12551 non-null  float64\n",
      " 12  CKD                              12551 non-null  float64\n",
      " 13  TLC                              12551 non-null  float64\n",
      " 14  PLATELETS                        12551 non-null  float64\n",
      " 15  GLUCOSE                          12551 non-null  float64\n",
      " 16  UREA                             12551 non-null  float64\n",
      " 17  CREATININE                       12551 non-null  float64\n",
      " 18  BNP                              12551 non-null  float64\n",
      " 19  RAISED CARDIAC ENZYMES           12551 non-null  float64\n",
      " 20  EF                               12551 non-null  float64\n",
      " 21  SEVERE ANAEMIA                   12551 non-null  float64\n",
      " 22  ANAEMIA                          12551 non-null  float64\n",
      " 23  STABLE ANGINA                    12551 non-null  float64\n",
      " 24  ACS                              12551 non-null  float64\n",
      " 25  STEMI                            12551 non-null  float64\n",
      " 26  ATYPICAL CHEST PAIN              12551 non-null  float64\n",
      " 27  HEART FAILURE                    12551 non-null  float64\n",
      " 28  HFREF                            12551 non-null  float64\n",
      " 29  HFNEF                            12551 non-null  float64\n",
      " 30  VALVULAR                         12551 non-null  float64\n",
      " 31  CHB                              12551 non-null  float64\n",
      " 32  SSS                              12551 non-null  float64\n",
      " 33  AKI                              12551 non-null  float64\n",
      " 34  CVA INFRACT                      12551 non-null  float64\n",
      " 35  CVA BLEED                        12551 non-null  float64\n",
      " 36  AF                               12551 non-null  float64\n",
      " 37  VT                               12551 non-null  float64\n",
      " 38  PSVT                             12551 non-null  float64\n",
      " 39  CONGENITAL                       12551 non-null  float64\n",
      " 40  UTI                              12551 non-null  float64\n",
      " 41  NEURO CARDIOGENIC SYNCOPE        12551 non-null  float64\n",
      " 42  ORTHOSTATIC                      12551 non-null  float64\n",
      " 43  INFECTIVE ENDOCARDITIS           12551 non-null  float64\n",
      " 44  DVT                              12551 non-null  float64\n",
      " 45  CARDIOGENIC SHOCK                12551 non-null  float64\n",
      " 46  SHOCK                            12551 non-null  float64\n",
      " 47  PULMONARY EMBOLISM               12551 non-null  float64\n",
      " 48  CHEST INFECTION                  12551 non-null  float64\n",
      " 49  OUTCOME                          12551 non-null  float64\n",
      " 50  HB                               12551 non-null  float64\n",
      " 51  month                            12551 non-null  float64\n",
      " 52  year                             12551 non-null  float64\n",
      "dtypes: float64(53)\n",
      "memory usage: 5.1 MB\n"
     ]
    }
   ],
   "source": [
    "df_scaled.info()"
   ]
  },
  {
   "cell_type": "markdown",
   "metadata": {},
   "source": [
    "### Cluster based on current OUTCOME, duration of intensive unit stay, GLUCOSE"
   ]
  },
  {
   "cell_type": "code",
   "execution_count": 366,
   "metadata": {},
   "outputs": [],
   "source": [
    "X = df_scaled[['OUTCOME', 'duration of intensive unit stay', 'GLUCOSE']]"
   ]
  },
  {
   "cell_type": "code",
   "execution_count": 367,
   "metadata": {},
   "outputs": [
    {
     "data": {
      "text/html": [
       "<div>\n",
       "<style scoped>\n",
       "    .dataframe tbody tr th:only-of-type {\n",
       "        vertical-align: middle;\n",
       "    }\n",
       "\n",
       "    .dataframe tbody tr th {\n",
       "        vertical-align: top;\n",
       "    }\n",
       "\n",
       "    .dataframe thead th {\n",
       "        text-align: right;\n",
       "    }\n",
       "</style>\n",
       "<table border=\"1\" class=\"dataframe\">\n",
       "  <thead>\n",
       "    <tr style=\"text-align: right;\">\n",
       "      <th></th>\n",
       "      <th>OUTCOME</th>\n",
       "      <th>duration of intensive unit stay</th>\n",
       "      <th>GLUCOSE</th>\n",
       "    </tr>\n",
       "  </thead>\n",
       "  <tbody>\n",
       "    <tr>\n",
       "      <th>0</th>\n",
       "      <td>0.5</td>\n",
       "      <td>0.068966</td>\n",
       "      <td>0.145241</td>\n",
       "    </tr>\n",
       "    <tr>\n",
       "      <th>1</th>\n",
       "      <td>0.5</td>\n",
       "      <td>0.000000</td>\n",
       "      <td>0.111412</td>\n",
       "    </tr>\n",
       "    <tr>\n",
       "      <th>2</th>\n",
       "      <td>0.5</td>\n",
       "      <td>0.017241</td>\n",
       "      <td>0.123816</td>\n",
       "    </tr>\n",
       "    <tr>\n",
       "      <th>3</th>\n",
       "      <td>0.5</td>\n",
       "      <td>0.086207</td>\n",
       "      <td>0.216283</td>\n",
       "    </tr>\n",
       "    <tr>\n",
       "      <th>4</th>\n",
       "      <td>0.5</td>\n",
       "      <td>0.051724</td>\n",
       "      <td>0.122688</td>\n",
       "    </tr>\n",
       "  </tbody>\n",
       "</table>\n",
       "</div>"
      ],
      "text/plain": [
       "   OUTCOME  duration of intensive unit stay   GLUCOSE\n",
       "0      0.5                         0.068966  0.145241\n",
       "1      0.5                         0.000000  0.111412\n",
       "2      0.5                         0.017241  0.123816\n",
       "3      0.5                         0.086207  0.216283\n",
       "4      0.5                         0.051724  0.122688"
      ]
     },
     "execution_count": 367,
     "metadata": {},
     "output_type": "execute_result"
    }
   ],
   "source": [
    "X.head()"
   ]
  },
  {
   "cell_type": "markdown",
   "metadata": {},
   "source": [
    "### K-Means Clustering"
   ]
  },
  {
   "cell_type": "code",
   "execution_count": 368,
   "metadata": {},
   "outputs": [
    {
     "name": "stdout",
     "output_type": "stream",
     "text": [
      "For n_clusters = 2 The average silhouette_coefficient is : 0.7095441406018378\n",
      "For n_clusters = 3 The average silhouette_coefficient is : 0.761171030991885\n",
      "For n_clusters = 4 The average silhouette_coefficient is : 0.5573447705840525\n",
      "For n_clusters = 5 The average silhouette_coefficient is : 0.5063175499943765\n"
     ]
    },
    {
     "data": {
      "image/png": "[encoded data removed]",
      "text/plain": [
       "<Figure size 2000x1000 with 4 Axes>"
      ]
     },
     "metadata": {},
     "output_type": "display_data"
    }
   ],
   "source": [
    "num_of_cluster = [2, 3, 4, 5]\n",
    "\n",
    "fig, ax = plt.subplots(2, 2, figsize=(20,10))\n",
    "for k in num_of_cluster:\n",
    "    # Create KMeans instance for different number of clusters\n",
    "    clusterer = KMeans(n_clusters = k, n_init=10)\n",
    "\n",
    "    # Draw silhouette diagram\n",
    "    q, mod = divmod(k, 2)\n",
    "    visualizer = SilhouetteVisualizer(clusterer, colors = 'yellowbrick', ax = ax[q-1][mod])\n",
    "    visualizer.fit(X)\n",
    "\n",
    "    # Compute silhoutte score\n",
    "    # This gives a perspective into the density and separation of the formed clusters\n",
    "    cluster_labels = clusterer.fit_predict(X)\n",
    "    silhouette_avg = silhouette_score(X, cluster_labels)\n",
    "    print(\n",
    "        \"For n_clusters =\",\n",
    "        k,\n",
    "        \"The average silhouette_coefficient is :\",\n",
    "        silhouette_avg,\n",
    "    )"
   ]
  },
  {
   "cell_type": "markdown",
   "metadata": {},
   "source": [
    "Berdasarkan silhoutte score yang dihasilkan, n_cluster = 3 memberikan score tertinggi  yang menandakan pilihan jumlah kluster yang paling optimal (karena semakin tinggi berarti lebih terdefinisi dengan baik clusternya)."
   ]
  },
  {
   "cell_type": "code",
   "execution_count": 369,
   "metadata": {},
   "outputs": [
    {
     "data": {
      "image/png": "[encoded data removed]",
      "text/plain": [
       "<Figure size 800x550 with 1 Axes>"
      ]
     },
     "metadata": {},
     "output_type": "display_data"
    }
   ],
   "source": [
    "# Visualisasi inertia (sum of squared distances) dengan elbow method\n",
    "inertia = []\n",
    "for cluster in range(2, 8):\n",
    "    km = KMeans(n_clusters=cluster)\n",
    "    km = km.fit(X)\n",
    "    inertia.append(km.inertia_)\n",
    "\n",
    "plt.plot(range(2, 8), inertia, 'bo-')\n",
    "plt.xlabel('Jumlah klaster')\n",
    "plt.ylabel('Inersia')\n",
    "plt.title('Visualisasi elbow method')\n",
    "plt.show()"
   ]
  },
  {
   "cell_type": "markdown",
   "metadata": {},
   "source": [
    "Hal tersebut juga didukung oleh visualisasi elbow method di mana letak \"siku\" terdapat di jumlah klaster 3."
   ]
  },
  {
   "cell_type": "markdown",
   "metadata": {},
   "source": [
    "### Model dan Cluster"
   ]
  },
  {
   "cell_type": "code",
   "execution_count": 370,
   "metadata": {},
   "outputs": [
    {
     "data": {
      "text/html": [
       "<div>\n",
       "<style scoped>\n",
       "    .dataframe tbody tr th:only-of-type {\n",
       "        vertical-align: middle;\n",
       "    }\n",
       "\n",
       "    .dataframe tbody tr th {\n",
       "        vertical-align: top;\n",
       "    }\n",
       "\n",
       "    .dataframe thead th {\n",
       "        text-align: right;\n",
       "    }\n",
       "</style>\n",
       "<table border=\"1\" class=\"dataframe\">\n",
       "  <thead>\n",
       "    <tr style=\"text-align: right;\">\n",
       "      <th></th>\n",
       "      <th>OUTCOME</th>\n",
       "      <th>duration of intensive unit stay</th>\n",
       "      <th>GLUCOSE</th>\n",
       "      <th>Clusters</th>\n",
       "    </tr>\n",
       "  </thead>\n",
       "  <tbody>\n",
       "    <tr>\n",
       "      <th>0</th>\n",
       "      <td>0.5</td>\n",
       "      <td>0.068966</td>\n",
       "      <td>0.145241</td>\n",
       "      <td>0</td>\n",
       "    </tr>\n",
       "    <tr>\n",
       "      <th>1</th>\n",
       "      <td>0.5</td>\n",
       "      <td>0.000000</td>\n",
       "      <td>0.111412</td>\n",
       "      <td>0</td>\n",
       "    </tr>\n",
       "    <tr>\n",
       "      <th>2</th>\n",
       "      <td>0.5</td>\n",
       "      <td>0.017241</td>\n",
       "      <td>0.123816</td>\n",
       "      <td>0</td>\n",
       "    </tr>\n",
       "    <tr>\n",
       "      <th>3</th>\n",
       "      <td>0.5</td>\n",
       "      <td>0.086207</td>\n",
       "      <td>0.216283</td>\n",
       "      <td>0</td>\n",
       "    </tr>\n",
       "    <tr>\n",
       "      <th>4</th>\n",
       "      <td>0.5</td>\n",
       "      <td>0.051724</td>\n",
       "      <td>0.122688</td>\n",
       "      <td>0</td>\n",
       "    </tr>\n",
       "    <tr>\n",
       "      <th>...</th>\n",
       "      <td>...</td>\n",
       "      <td>...</td>\n",
       "      <td>...</td>\n",
       "      <td>...</td>\n",
       "    </tr>\n",
       "    <tr>\n",
       "      <th>12546</th>\n",
       "      <td>0.5</td>\n",
       "      <td>0.120690</td>\n",
       "      <td>0.211773</td>\n",
       "      <td>0</td>\n",
       "    </tr>\n",
       "    <tr>\n",
       "      <th>12547</th>\n",
       "      <td>0.5</td>\n",
       "      <td>0.137931</td>\n",
       "      <td>0.123816</td>\n",
       "      <td>0</td>\n",
       "    </tr>\n",
       "    <tr>\n",
       "      <th>12548</th>\n",
       "      <td>1.0</td>\n",
       "      <td>0.206897</td>\n",
       "      <td>0.138475</td>\n",
       "      <td>1</td>\n",
       "    </tr>\n",
       "    <tr>\n",
       "      <th>12549</th>\n",
       "      <td>0.5</td>\n",
       "      <td>0.000000</td>\n",
       "      <td>0.088859</td>\n",
       "      <td>0</td>\n",
       "    </tr>\n",
       "    <tr>\n",
       "      <th>12550</th>\n",
       "      <td>0.0</td>\n",
       "      <td>0.034483</td>\n",
       "      <td>0.300857</td>\n",
       "      <td>2</td>\n",
       "    </tr>\n",
       "  </tbody>\n",
       "</table>\n",
       "<p>12551 rows × 4 columns</p>\n",
       "</div>"
      ],
      "text/plain": [
       "       OUTCOME  duration of intensive unit stay   GLUCOSE  Clusters\n",
       "0          0.5                         0.068966  0.145241         0\n",
       "1          0.5                         0.000000  0.111412         0\n",
       "2          0.5                         0.017241  0.123816         0\n",
       "3          0.5                         0.086207  0.216283         0\n",
       "4          0.5                         0.051724  0.122688         0\n",
       "...        ...                              ...       ...       ...\n",
       "12546      0.5                         0.120690  0.211773         0\n",
       "12547      0.5                         0.137931  0.123816         0\n",
       "12548      1.0                         0.206897  0.138475         1\n",
       "12549      0.5                         0.000000  0.088859         0\n",
       "12550      0.0                         0.034483  0.300857         2\n",
       "\n",
       "[12551 rows x 4 columns]"
      ]
     },
     "execution_count": 370,
     "metadata": {},
     "output_type": "execute_result"
    }
   ],
   "source": [
    "kmeans = KMeans(n_clusters=3)\n",
    "\n",
    "cluster_assignment = kmeans.fit_predict(X)\n",
    "data_with_clusters = pd.DataFrame(X.copy(), columns=('OUTCOME', 'duration of intensive unit stay', 'GLUCOSE'))\n",
    "data_with_clusters['Clusters'] = cluster_assignment\n",
    "data_with_clusters"
   ]
  },
  {
   "cell_type": "code",
   "execution_count": 371,
   "metadata": {},
   "outputs": [
    {
     "data": {
      "image/png": "[encoded data removed]",
      "text/plain": [
       "<Figure size 500x500 with 1 Axes>"
      ]
     },
     "metadata": {},
     "output_type": "display_data"
    }
   ],
   "source": [
    "fig = plt.figure(figsize = (5,5))\n",
    "ax = plt.axes(projection=\"3d\")\n",
    "\n",
    "# Menyiapkan beberapa variabel yang diperlukan untuk visualisasi\n",
    "x = data_with_clusters['OUTCOME']\n",
    "y = data_with_clusters['duration of intensive unit stay']\n",
    "z = data_with_clusters['GLUCOSE']\n",
    "cluster = data_with_clusters['Clusters']\n",
    "\n",
    "# Memvisualisasikan hasilnya\n",
    "ax.scatter(x, y, z, c = cluster, cmap = \"rainbow\")\n",
    "plt.title(\"Clustering\")\n",
    "plt.grid(False)\n",
    "ax.set_xlabel('OUTCOME')\n",
    "ax.set_ylabel('duration of intensive unit stay')\n",
    "ax.set_zlabel('GLUCOSE')\n",
    "\n",
    "plt.show()"
   ]
  }
 ],
 "metadata": {
  "kernelspec": {
   "display_name": "Python 3",
   "language": "python",
   "name": "python3"
  },
  "language_info": {
   "codemirror_mode": {
    "name": "ipython",
    "version": 3
   },
   "file_extension": ".py",
   "mimetype": "text/x-python",
   "name": "python",
   "nbconvert_exporter": "python",
   "pygments_lexer": "ipython3",
   "version": "3.11.4"
  }
 },
 "nbformat": 4,
 "nbformat_minor": 2
}
